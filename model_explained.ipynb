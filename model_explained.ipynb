{
 "cells": [
  {
   "attachments": {},
   "cell_type": "markdown",
   "metadata": {},
   "source": [
    "## Model explained ##\n",
    "\n",
    "This model uses the data from 2010 to 2021 as this has given the highest accuracy of around 52.34% using the RandomForestClassifier, having removed data from earlier seasons and within a 10-15 year period, as seen in the cell where the model was being trained and tested. Past data may no longer be reliable due to potential inconsistencies, such as more teams playing in certain leagues, and/or different teams playing in all leagues before the same teams would primarily be playing in the leagues.\n",
    "\n",
    "The dataset includes cumulative data acquired from manipulating the original data (e.g. match outcome for both home and away teams, and cumulative home and away points) to help the model predict future matches without using match specific data (e.g. home and away points); including the latter when training the model would result in data leakage and a continuous 100% accuracy prediction."
   ]
  },
  {
   "cell_type": "code",
   "execution_count": null,
   "metadata": {},
   "outputs": [],
   "source": [
    "from pipeline import MatchOutcomeData\n",
    "\n",
    "get_data = MatchOutcomeData()"
   ]
  },
  {
   "cell_type": "code",
   "execution_count": null,
   "metadata": {},
   "outputs": [],
   "source": [
    "get_data.get_cumulative_data()"
   ]
  },
  {
   "cell_type": "code",
   "execution_count": null,
   "metadata": {},
   "outputs": [],
   "source": [
    "get_data.save_to_csv()"
   ]
  },
  {
   "cell_type": "code",
   "execution_count": null,
   "metadata": {},
   "outputs": [],
   "source": [
    "from train_test_model import TrainTestModel\n",
    "\n",
    "get_model = TrainTestModel() #run again to reset model"
   ]
  },
  {
   "cell_type": "code",
   "execution_count": null,
   "metadata": {},
   "outputs": [],
   "source": [
    "get_model.train_test_model()\n",
    "##2000-2021##\n",
    "#rf - accuracy %: 0.5160339832048323 - home match outcome\n",
    "#lr - accuracy %: 0.48013553994990915 - home match outcome\n",
    "#rf - accuracy %: 0.5124981584245937 - away match outcome\n",
    "#lr - accuracy %: 0.48013553994990915 - away match outcome\n",
    "\n",
    "\n",
    "##2005-2021##\n",
    "#rf - accuracy %: 0.5191376750790679 - home match outcome\n",
    "#lr - accuracy %: 0.4723423481572323 - home match outcome\n",
    "#rf - accuracy %: 0.5174594978377332 - away match outcome\n",
    "#lr - accuracy %: 0.4723423481572323 - away match outcome\n",
    "\n",
    "##2010-2021##\n",
    "#rf - accuracy %: 0.523448339654056 - home match outcome --> highest accuracy\n",
    "#lr - accuracy %: 0.47951160854685043 - home match outcome\n",
    "#rf - accuracy %: 0.5220608639348812 - away match outcome\n",
    "#lr - accuracy %: 0.47951160854685043 - away match outcome\n",
    "\n",
    "##2011-2021##\n",
    "#rf - accuracy %: 0.5186533212010919 - home match outcome\n",
    "#lr - accuracy %: 0.483773127085229 - home match outcome\n",
    "#rf - accuracy %: 0.5172378930340714 - away match outcome\n",
    "#lr - accuracy %: 0.483773127085229 - away match outcome\n"
   ]
  },
  {
   "cell_type": "code",
   "execution_count": null,
   "metadata": {},
   "outputs": [],
   "source": [
    "get_model.save_model_pickle()"
   ]
  }
 ],
 "metadata": {
  "interpreter": {
   "hash": "7fee6a517d6fe4ed0c17adff658e8975cbd7122360bee955f57b5f202ed89547"
  },
  "kernelspec": {
   "display_name": "Python 3.9.5 ('base')",
   "language": "python",
   "name": "python3"
  },
  "language_info": {
   "codemirror_mode": {
    "name": "ipython",
    "version": 3
   },
   "file_extension": ".py",
   "mimetype": "text/x-python",
   "name": "python",
   "nbconvert_exporter": "python",
   "pygments_lexer": "ipython3",
   "version": "3.9.5 (default, May 18 2021, 14:42:02) [MSC v.1916 64 bit (AMD64)]"
  },
  "orig_nbformat": 4
 },
 "nbformat": 4,
 "nbformat_minor": 2
}
