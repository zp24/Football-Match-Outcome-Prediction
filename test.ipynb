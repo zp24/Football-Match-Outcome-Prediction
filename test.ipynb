{
 "cells": [
  {
   "cell_type": "code",
   "execution_count": null,
   "metadata": {},
   "outputs": [],
   "source": [
    "from sklearn import datasets\n",
    "iris = datasets.load_iris()\n",
    "digits = datasets.load_digits()"
   ]
  },
  {
   "cell_type": "code",
   "execution_count": null,
   "metadata": {},
   "outputs": [],
   "source": [
    "digits.data"
   ]
  },
  {
   "cell_type": "code",
   "execution_count": null,
   "metadata": {},
   "outputs": [],
   "source": [
    "digits.target"
   ]
  },
  {
   "cell_type": "code",
   "execution_count": null,
   "metadata": {},
   "outputs": [],
   "source": [
    "from sklearn import svm\n",
    "clf = svm.SVC(gamma=0.001, C=100.)\n",
    "clf.fit(digits.data[:-1], digits.target[:-1])  #SVC(C=100.0, gamma=0.001)"
   ]
  },
  {
   "cell_type": "code",
   "execution_count": null,
   "metadata": {},
   "outputs": [],
   "source": [
    "clf.predict(digits.data[-1:])"
   ]
  },
  {
   "cell_type": "code",
   "execution_count": null,
   "metadata": {},
   "outputs": [],
   "source": [
    "import numpy as np\n",
    "from sklearn.datasets import load_iris\n",
    "from sklearn.svm import SVC\n",
    "X, y = load_iris(return_X_y=True)\n",
    "\n",
    "clf = SVC()\n",
    "clf.set_params(kernel='linear').fit(X, y)\n",
    "#SVC(kernel='linear')\n",
    "clf.predict(X[:5])\n",
    "#array([0, 0, 0, 0, 0])\n",
    "\n",
    "clf.set_params(kernel='rbf').fit(X, y)\n",
    "#SVC()\n",
    "clf.predict(X[:5])\n",
    "#array([0, 0, 0, 0, 0])"
   ]
  },
  {
   "cell_type": "code",
   "execution_count": null,
   "metadata": {},
   "outputs": [],
   "source": [
    "import numpy as np\n",
    "import pandas as pd\n",
    "import os\n",
    "import csv\n",
    "league = input(\"Select league: \").replace(\" \", \"_\").lower()\n",
    "year = input(\"Select year: \")\n",
    "\n",
    "input_file = rf'cleaned_datasets/{league}/{year}/cleaned_dataset_{league}_{year}.csv'\n",
    "\n",
    "try:\n",
    "    if os.path.exists(input_file):\n",
    "        with open(input_file) as file:\n",
    "            data = csv.reader(file) #load json file\n",
    "            #print(\"Type:\", type(data))\n",
    "            # comma delimited is the default\n",
    "            df = pd.read_csv(input_file, header = 0)\n",
    "\n",
    "            # for space delimited use:\n",
    "            # df = pd.read_csv(input_file, header = 0, delimiter = \" \")\n",
    "\n",
    "            # for tab delimited use:\n",
    "            # df = pd.read_csv(input_file, header = 0, delimiter = \"\\t\")\n",
    "\n",
    "            # put the original column names in a python list\n",
    "            original_headers = list(df.columns.values)\n",
    "\n",
    "            # remove the non-numeric columns\n",
    "            df = df._get_numeric_data()\n",
    "\n",
    "            # put the numeric column names in a python list\n",
    "            numeric_headers = list(df.columns.values)\n",
    "\n",
    "            # create a numpy array with the numeric values for input into scikit-learn\n",
    "            numpy_array = df.as_matrix()\n",
    "\n",
    "            # reverse the order of the columns\n",
    "            numeric_headers.reverse()\n",
    "            reverse_df = df[numeric_headers]\n",
    "\n",
    "            # write the reverse_df to an excel spreadsheet\n",
    "            reverse_df.to_excel('path_to_file.xls')\n",
    "        \n",
    "    else:\n",
    "        print(\"This file does not exist - please create before trying to load to database\")\n",
    "except:\n",
    "    \"File not loaded to database\""
   ]
  },
  {
   "cell_type": "code",
   "execution_count": null,
   "metadata": {},
   "outputs": [],
   "source": [
    "import numpy as np\n",
    "# load the CSV file as a numpy matrix\n",
    "f = open(rf'cleaned_datasets/{league}/{year}/cleaned_dataset_{league}_{year}.csv')\n",
    "f.readline()  # skip the header\n",
    "data = np.genfromtxt(fname = f, delimiter = ',')\n",
    "data"
   ]
  },
  {
   "cell_type": "code",
   "execution_count": null,
   "metadata": {},
   "outputs": [],
   "source": [
    "# separate the data from the target attributes\n",
    "X = data[:,0:7]\n",
    "y = data[:,8]"
   ]
  },
  {
   "cell_type": "code",
   "execution_count": null,
   "metadata": {},
   "outputs": [],
   "source": [
    "from sklearn import kernel_approximation\n",
    "transformer = kernel_approximation.RBFSampler()\n",
    "X_new = transformer.fit_transform(X)\n",
    "X_new.dtype"
   ]
  }
 ],
 "metadata": {
  "interpreter": {
   "hash": "7fee6a517d6fe4ed0c17adff658e8975cbd7122360bee955f57b5f202ed89547"
  },
  "kernelspec": {
   "display_name": "Python 3.9.5 ('base')",
   "language": "python",
   "name": "python3"
  },
  "language_info": {
   "codemirror_mode": {
    "name": "ipython",
    "version": 3
   },
   "file_extension": ".py",
   "mimetype": "text/x-python",
   "name": "python",
   "nbconvert_exporter": "python",
   "pygments_lexer": "ipython3",
   "version": "3.9.5"
  },
  "orig_nbformat": 4
 },
 "nbformat": 4,
 "nbformat_minor": 2
}
