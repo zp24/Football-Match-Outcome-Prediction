{
 "cells": [
  {
   "cell_type": "code",
   "execution_count": null,
   "metadata": {},
   "outputs": [],
   "source": [
    "from sklearn import datasets\n",
    "iris = datasets.load_iris()\n",
    "digits = datasets.load_digits()"
   ]
  },
  {
   "cell_type": "code",
   "execution_count": null,
   "metadata": {},
   "outputs": [],
   "source": [
    "digits.data"
   ]
  },
  {
   "cell_type": "code",
   "execution_count": null,
   "metadata": {},
   "outputs": [],
   "source": [
    "digits.target"
   ]
  },
  {
   "cell_type": "code",
   "execution_count": null,
   "metadata": {},
   "outputs": [],
   "source": [
    "from sklearn import svm\n",
    "clf = svm.SVC(gamma=0.001, C=100.)\n",
    "clf.fit(digits.data[:-1], digits.target[:-1])  #SVC(C=100.0, gamma=0.001)"
   ]
  },
  {
   "cell_type": "code",
   "execution_count": null,
   "metadata": {},
   "outputs": [],
   "source": [
    "clf.predict(digits.data[-1:])"
   ]
  },
  {
   "cell_type": "code",
   "execution_count": null,
   "metadata": {},
   "outputs": [],
   "source": [
    "import numpy as np\n",
    "from sklearn.datasets import load_iris\n",
    "from sklearn.svm import SVC\n",
    "X, y = load_iris(return_X_y=True)\n",
    "\n",
    "clf = SVC()\n",
    "clf.set_params(kernel='linear').fit(X, y)\n",
    "#SVC(kernel='linear')\n",
    "clf.predict(X[:5])\n",
    "#array([0, 0, 0, 0, 0])\n",
    "\n",
    "clf.set_params(kernel='rbf').fit(X, y)\n",
    "#SVC()\n",
    "clf.predict(X[:5])\n",
    "#array([0, 0, 0, 0, 0])"
   ]
  },
  {
   "cell_type": "code",
   "execution_count": null,
   "metadata": {},
   "outputs": [],
   "source": [
    "import numpy as np\n",
    "import pandas as pd\n",
    "import os\n",
    "import csv\n",
    "league = input(\"Select league: \").replace(\" \", \"_\").lower()\n",
    "year = input(\"Select year: \")\n",
    "\n",
    "input_file = rf'cleaned_datasets/{league}/{year}/cleaned_dataset_{league}_{year}.csv'\n",
    "\n",
    "try:\n",
    "    if os.path.exists(input_file):\n",
    "        with open(input_file) as file:\n",
    "            data = csv.reader(file) #load json file\n",
    "            #print(\"Type:\", type(data))\n",
    "            # comma delimited is the default\n",
    "            df = pd.read_csv(input_file, header = 0)\n",
    "\n",
    "            # for space delimited use:\n",
    "            # df = pd.read_csv(input_file, header = 0, delimiter = \" \")\n",
    "\n",
    "            # for tab delimited use:\n",
    "            # df = pd.read_csv(input_file, header = 0, delimiter = \"\\t\")\n",
    "\n",
    "            # put the original column names in a python list\n",
    "            original_headers = list(df.columns.values)\n",
    "\n",
    "            # remove the non-numeric columns\n",
    "            df = df._get_numeric_data()\n",
    "\n",
    "            # put the numeric column names in a python list\n",
    "            numeric_headers = list(df.columns.values)\n",
    "\n",
    "            # create a numpy array with the numeric values for input into scikit-learn\n",
    "            numpy_array = df.as_matrix()\n",
    "\n",
    "            # reverse the order of the columns\n",
    "            numeric_headers.reverse()\n",
    "            reverse_df = df[numeric_headers]\n",
    "\n",
    "            # write the reverse_df to an excel spreadsheet\n",
    "            reverse_df.to_excel('path_to_file.xls')\n",
    "        \n",
    "    else:\n",
    "        print(\"This file does not exist - please create before trying to load to database\")\n",
    "except:\n",
    "    \"File not loaded to database\""
   ]
  },
  {
   "cell_type": "code",
   "execution_count": null,
   "metadata": {},
   "outputs": [],
   "source": [
    "import numpy as np\n",
    "# load the CSV file as a numpy matrix\n",
    "f = open(rf'cleaned_datasets/{league}/{year}/cleaned_dataset_{league}_{year}.csv')\n",
    "f.readline()  # skip the header\n",
    "data = np.genfromtxt(fname = f, delimiter = ',')\n",
    "data"
   ]
  },
  {
   "cell_type": "code",
   "execution_count": null,
   "metadata": {},
   "outputs": [],
   "source": [
    "# separate the data from the target attributes\n",
    "X = data[:,0:7]\n",
    "y = data[:,8]"
   ]
  },
  {
   "cell_type": "code",
   "execution_count": null,
   "metadata": {},
   "outputs": [],
   "source": [
    "from sklearn import kernel_approximation\n",
    "transformer = kernel_approximation.RBFSampler()\n",
    "X_new = transformer.fit_transform(X)\n",
    "X_new.dtype"
   ]
  },
  {
   "cell_type": "code",
   "execution_count": null,
   "metadata": {},
   "outputs": [],
   "source": [
    "from train_test_model import TrainTestModel\n",
    "\n",
    "test = TrainTestModel()"
   ]
  },
  {
   "cell_type": "code",
   "execution_count": null,
   "metadata": {},
   "outputs": [],
   "source": [
    "test.train_test_model() #run again to continue dropping values"
   ]
  },
  {
   "cell_type": "code",
   "execution_count": null,
   "metadata": {},
   "outputs": [],
   "source": [
    "test.save_to_csv()"
   ]
  },
  {
   "cell_type": "code",
   "execution_count": null,
   "metadata": {},
   "outputs": [],
   "source": [
    "test.save_baseline_pickle()"
   ]
  },
  {
   "cell_type": "code",
   "execution_count": null,
   "metadata": {},
   "outputs": [],
   "source": [
    "test.save_model_pickle()"
   ]
  },
  {
   "cell_type": "code",
   "execution_count": null,
   "metadata": {},
   "outputs": [],
   "source": [
    "pwd"
   ]
  },
  {
   "cell_type": "code",
   "execution_count": null,
   "metadata": {},
   "outputs": [],
   "source": [
    "import os, os.path\n",
    "import pandas as pd\n",
    "import csv\n",
    "\n",
    "season = range(1990, 2022)\n",
    "league = [\"premier_league\",\"2_liga\", \"bundesliga\", \"championship\", \"eerste_divisie\", \"ligue_1\", \"ligue_2\", \"eredivisie\",\n",
    "\"primeira_liga\", \"primera_division\", \"segunda_division\", \"eredivisie\", \"segunda_liga\", \"serie_a\", \"serie_b\"]\n",
    "files = []\n",
    "for l in league:\n",
    "    for i in season:\n",
    "        filepath = rf'Football-Dataset/'\n",
    "        file = rf'{l}/Results_{i}_{l}.csv'\n",
    "        if os.path.exists(filepath):\n",
    "            #print(\"this works\")\n",
    "            files.append(filepath+file)\n",
    "        else:\n",
    "            print(\"filepath does not exist\")\n",
    "data = []\n",
    "for f in files:\n",
    "    data.append(pd.read_csv(f))\n",
    "\n",
    "df = pd.concat(data)\n",
    "#df"
   ]
  },
  {
   "cell_type": "code",
   "execution_count": null,
   "metadata": {},
   "outputs": [],
   "source": [
    "import os, os.path\n",
    "import pandas as pd\n",
    "import csv\n",
    "\n",
    "season = range(1990, 2022)\n",
    "league = [\"premier_league\",\"2_liga\", \"bundesliga\", \"championship\", \"eerste_divisie\", \"ligue_1\", \"ligue_2\", \"eredivisie\",\n",
    "\"primeira_liga\", \"primera_division\", \"segunda_division\", \"segunda_liga\", \"serie_a\", \"serie_b\"]\n",
    "files = []\n",
    "test = input(\"choose a league:\").lower().replace(\" \",\"_\")\n",
    "\n",
    "for i in season:\n",
    "        if test in league:\n",
    "            filepath = rf'Football-Dataset/'\n",
    "            file = rf'{test}/Results_{season}_{test}.csv'\n",
    "            if os.path.exists(filepath):\n",
    "                #print(\"this works\")\n",
    "                files.append(filepath+file)\n",
    "            else:\n",
    "                print(\"filepath does not exist\")\n",
    "data = []\n",
    "for f in files:\n",
    "    data.append(pd.read_csv(f))\n",
    "\n",
    "df = pd.concat(data)\n",
    "df"
   ]
  },
  {
   "cell_type": "code",
   "execution_count": null,
   "metadata": {},
   "outputs": [],
   "source": [
    "df.dtypes"
   ]
  },
  {
   "cell_type": "code",
   "execution_count": null,
   "metadata": {},
   "outputs": [],
   "source": [
    "from tqdm import tqdm\n",
    "split_result = df[\"Result\"].str.split(\"-\") #split results at '-' to separate numbers\n",
    "test = []\n",
    "#df['Result'] = df['Result'].apply(lambda x: test.append(x) if \"-\" not in x else x)\n",
    "#df['Result'] = df['Result'].apply(lambda: function)\n",
    "#The function can simple check that if the result is not like x-y, then it will clean it by giving it the right format\n",
    "\n",
    "home_goal = []\n",
    "away_goal = []\n",
    "home_match_outcome = []\n",
    "away_match_outcome = []\n",
    "home_points = []\n",
    "away_points = []\n",
    "for i, res in enumerate(tqdm(split_result, desc = \"Splitting results\")):\n",
    "    try: \n",
    "        home_goal.append(int(res[0][0])) #convert to int to add goals together -- default type is str\n",
    "                #print(\"Away goals: \", res[1][0])\n",
    "        away_goal.append(int(res[1][0]))\n",
    "        #Determine match outcomes\n",
    "            #Win\n",
    "        if int(res[0][0]) > int(res[1][0]):\n",
    "                    home_match_outcome.append(\"Win\")\n",
    "                    home_points.append(3) #3 points for a win \n",
    "\n",
    "                    away_match_outcome.append(\"Loss\")   \n",
    "                    away_points.append(0)           \n",
    "            #Draw\n",
    "        elif int(res[0][0]) == int(res[1][0]):\n",
    "                    home_match_outcome.append(\"Draw\")\n",
    "                    home_points.append(1) #1 point for a draw\n",
    "\n",
    "                    away_match_outcome.append(\"Draw\")  \n",
    "                    away_points.append(1)   \n",
    "            #Loss    \n",
    "        else:\n",
    "                    home_match_outcome.append(\"Loss\")\n",
    "                    home_points.append(0) #0 points for a loss\n",
    "\n",
    "                    away_match_outcome.append(\"Win\")  \n",
    "                    away_points.append(3)  \n",
    "    except IndexError:\n",
    "        l = list(res)\n",
    "        print(l)\n",
    "        for c in l:\n",
    "            x = int(c[0])\n",
    "            y = int(c[1])\n",
    "        home_goal.append(x) #convert to int to add goals together -- default type is str\n",
    "                    #print(\"Away goals: \", res[1][0])\n",
    "        away_goal.append(y)\n",
    "        if x > y:\n",
    "            print(x, y, \"Win\")\n",
    "            home_match_outcome.append(\"Win\")\n",
    "            home_points.append(3) #3 points for a win \n",
    "            away_match_outcome.append(\"Loss\")   \n",
    "            away_points.append(0)   \n",
    "        elif x == y:\n",
    "            print(x, y, \"Draw\")\n",
    "            home_match_outcome.append(\"Draw\")\n",
    "            home_points.append(1) #1 point for a draw\n",
    "\n",
    "            away_match_outcome.append(\"Draw\")  \n",
    "            away_points.append(1)\n",
    "        else:\n",
    "            print(x, y, \"Loss\")\n",
    "            home_match_outcome.append(\"Loss\")\n",
    "            home_points.append(0) #0 points for a loss\n",
    "\n",
    "            away_match_outcome.append(\"Win\")  \n",
    "            away_points.append(3) \n",
    "\n",
    "\n",
    "#df[\"Home_Goals\"] = home_goal\n",
    "#df[\"Away_Goals\"] = away_goal\n",
    "df[\"Home_Match_Outcome\"] = home_match_outcome\n",
    "df[\"Home_Points\"] = home_points\n",
    "df[\"Away_Match_Outcome\"] = away_match_outcome\n",
    "df[\"Away_Points\"] = away_points"
   ]
  },
  {
   "cell_type": "code",
   "execution_count": null,
   "metadata": {},
   "outputs": [],
   "source": [
    "l\n",
    "test = []\n",
    "test1 = []\n",
    "for c in l:\n",
    "    print(c[1])\n",
    "    test.append(int(c[0]))\n",
    "    test1.append(int(c[1]))\n",
    "len(test), len(test1)"
   ]
  },
  {
   "cell_type": "code",
   "execution_count": null,
   "metadata": {},
   "outputs": [],
   "source": [
    "print(away_goal[156169], home_goal[156172])"
   ]
  },
  {
   "cell_type": "code",
   "execution_count": null,
   "metadata": {},
   "outputs": [],
   "source": [
    "set(away_goal), set(home_goal)"
   ]
  },
  {
   "cell_type": "code",
   "execution_count": null,
   "metadata": {},
   "outputs": [],
   "source": [
    "len(away_goal), len(home_goal) #does not include rows with the score formatting issues"
   ]
  },
  {
   "cell_type": "code",
   "execution_count": null,
   "metadata": {},
   "outputs": [],
   "source": [
    "        #add lists to existing dataframe/set\n",
    "'''df[\"Home_Goals\"] = home_goal\n",
    "df[\"Away_Goals\"] = away_goal\n",
    "df[\"Home_Match_Outcome\"] = home_match_outcome\n",
    "df[\"Home_Points\"] = home_points\n",
    "df[\"Away_Match_Outcome\"] = away_match_outcome\n",
    "df[\"Away_Points\"] = away_points '''\n",
    "df"
   ]
  },
  {
   "cell_type": "code",
   "execution_count": null,
   "metadata": {},
   "outputs": [],
   "source": [
    "display(df.iloc[12293])"
   ]
  },
  {
   "cell_type": "code",
   "execution_count": null,
   "metadata": {},
   "outputs": [],
   "source": [
    "type(df.iloc[12292][\"Result\"])"
   ]
  },
  {
   "cell_type": "code",
   "execution_count": null,
   "metadata": {},
   "outputs": [],
   "source": [
    "for res in split_result:\n",
    "    if res[1] == None:\n",
    "        pass\n",
    "    else:\n",
    "        print(int(res[1]))\n",
    "    #print(res[1])"
   ]
  },
  {
   "cell_type": "code",
   "execution_count": 1,
   "metadata": {},
   "outputs": [],
   "source": [
    "from pipeline import MatchOutcomeData\n",
    "\n",
    "test = MatchOutcomeData()"
   ]
  },
  {
   "cell_type": "code",
   "execution_count": null,
   "metadata": {},
   "outputs": [],
   "source": [
    "test.get_match_info()"
   ]
  },
  {
   "cell_type": "code",
   "execution_count": null,
   "metadata": {},
   "outputs": [],
   "source": [
    "test.display_data()"
   ]
  },
  {
   "cell_type": "code",
   "execution_count": null,
   "metadata": {},
   "outputs": [],
   "source": [
    "test.get_cumulative_data()"
   ]
  },
  {
   "cell_type": "code",
   "execution_count": null,
   "metadata": {},
   "outputs": [],
   "source": [
    "test.split_results()"
   ]
  },
  {
   "cell_type": "code",
   "execution_count": 2,
   "metadata": {},
   "outputs": [
    {
     "name": "stderr",
     "output_type": "stream",
     "text": [
      "Splitting results: 100%|██████████| 9672/9672 [00:00<00:00, 276336.53it/s]\n",
      "Splitting results: 100%|██████████| 9672/9672 [00:00<00:00, 232948.65it/s]\n"
     ]
    },
    {
     "data": {
      "text/plain": [
       "'datasets saved to csv'"
      ]
     },
     "execution_count": 2,
     "metadata": {},
     "output_type": "execute_result"
    }
   ],
   "source": [
    "test.save_to_csv()"
   ]
  },
  {
   "cell_type": "code",
   "execution_count": null,
   "metadata": {},
   "outputs": [],
   "source": [
    "from train_test_model import TrainTestModel\n",
    "\n",
    "test1 = TrainTestModel()"
   ]
  },
  {
   "cell_type": "code",
   "execution_count": null,
   "metadata": {},
   "outputs": [],
   "source": [
    "test1.display_data_types()"
   ]
  },
  {
   "cell_type": "code",
   "execution_count": null,
   "metadata": {},
   "outputs": [],
   "source": [
    "test1.train_test_model()"
   ]
  },
  {
   "cell_type": "code",
   "execution_count": null,
   "metadata": {},
   "outputs": [],
   "source": [
    "test1.save_to_csv()"
   ]
  }
 ],
 "metadata": {
  "interpreter": {
   "hash": "7fee6a517d6fe4ed0c17adff658e8975cbd7122360bee955f57b5f202ed89547"
  },
  "kernelspec": {
   "display_name": "Python 3.9.5 ('base')",
   "language": "python",
   "name": "python3"
  },
  "language_info": {
   "codemirror_mode": {
    "name": "ipython",
    "version": 3
   },
   "file_extension": ".py",
   "mimetype": "text/x-python",
   "name": "python",
   "nbconvert_exporter": "python",
   "pygments_lexer": "ipython3",
   "version": "3.9.5"
  },
  "orig_nbformat": 4
 },
 "nbformat": 4,
 "nbformat_minor": 2
}
