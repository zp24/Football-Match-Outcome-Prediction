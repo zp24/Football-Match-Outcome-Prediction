{
 "cells": [
  {
   "cell_type": "code",
   "execution_count": 4,
   "metadata": {},
   "outputs": [],
   "source": [
    "import pandas as pd\n",
    "import numpy as np\n",
    "import sklearn\n",
    "import matplotlib\n",
    "\n",
    "df = pd.read_csv('cleaned_datasets/2_liga/2016/cleaned_dataset_2_liga_2016.csv')"
   ]
  },
  {
   "cell_type": "code",
   "execution_count": 6,
   "metadata": {},
   "outputs": [
    {
     "data": {
      "text/html": [
       "<div>\n",
       "<style scoped>\n",
       "    .dataframe tbody tr th:only-of-type {\n",
       "        vertical-align: middle;\n",
       "    }\n",
       "\n",
       "    .dataframe tbody tr th {\n",
       "        vertical-align: top;\n",
       "    }\n",
       "\n",
       "    .dataframe thead th {\n",
       "        text-align: right;\n",
       "    }\n",
       "</style>\n",
       "<table border=\"1\" class=\"dataframe\">\n",
       "  <thead>\n",
       "    <tr style=\"text-align: right;\">\n",
       "      <th></th>\n",
       "      <th>Round</th>\n",
       "      <th>Home_Goals</th>\n",
       "      <th>Away_Goals</th>\n",
       "      <th>Home_Points</th>\n",
       "      <th>Away_Points</th>\n",
       "      <th>Total_Home_Goals_So_Far</th>\n",
       "      <th>Total_Away_Goals_So_Far</th>\n",
       "      <th>Cumulative_Home_Goals</th>\n",
       "      <th>Cumulative_Away_Goals</th>\n",
       "      <th>Total_Home_Points_So_Far</th>\n",
       "      <th>Total_Away_Points_So_Far</th>\n",
       "      <th>Cumulative_Home_Points</th>\n",
       "      <th>Cumulative_Away_Points</th>\n",
       "    </tr>\n",
       "  </thead>\n",
       "  <tbody>\n",
       "    <tr>\n",
       "      <th>count</th>\n",
       "      <td>306.000000</td>\n",
       "      <td>306.000000</td>\n",
       "      <td>306.000000</td>\n",
       "      <td>306.000000</td>\n",
       "      <td>306.000000</td>\n",
       "      <td>306.000000</td>\n",
       "      <td>306.000000</td>\n",
       "      <td>306.000000</td>\n",
       "      <td>306.000000</td>\n",
       "      <td>306.000000</td>\n",
       "      <td>306.000000</td>\n",
       "      <td>306.000000</td>\n",
       "      <td>306.000000</td>\n",
       "    </tr>\n",
       "    <tr>\n",
       "      <th>mean</th>\n",
       "      <td>17.500000</td>\n",
       "      <td>1.395425</td>\n",
       "      <td>1.245098</td>\n",
       "      <td>1.526144</td>\n",
       "      <td>1.192810</td>\n",
       "      <td>11.980392</td>\n",
       "      <td>11.176471</td>\n",
       "      <td>204.460784</td>\n",
       "      <td>191.228758</td>\n",
       "      <td>13.143791</td>\n",
       "      <td>11.101307</td>\n",
       "      <td>223.718954</td>\n",
       "      <td>190.189542</td>\n",
       "    </tr>\n",
       "    <tr>\n",
       "      <th>std</th>\n",
       "      <td>9.826778</td>\n",
       "      <td>1.240245</td>\n",
       "      <td>1.160296</td>\n",
       "      <td>1.301060</td>\n",
       "      <td>1.264424</td>\n",
       "      <td>8.712133</td>\n",
       "      <td>6.971716</td>\n",
       "      <td>120.713073</td>\n",
       "      <td>108.510542</td>\n",
       "      <td>8.720745</td>\n",
       "      <td>7.401785</td>\n",
       "      <td>133.350516</td>\n",
       "      <td>106.194116</td>\n",
       "    </tr>\n",
       "    <tr>\n",
       "      <th>min</th>\n",
       "      <td>1.000000</td>\n",
       "      <td>0.000000</td>\n",
       "      <td>0.000000</td>\n",
       "      <td>0.000000</td>\n",
       "      <td>0.000000</td>\n",
       "      <td>0.000000</td>\n",
       "      <td>0.000000</td>\n",
       "      <td>1.000000</td>\n",
       "      <td>3.000000</td>\n",
       "      <td>0.000000</td>\n",
       "      <td>0.000000</td>\n",
       "      <td>0.000000</td>\n",
       "      <td>3.000000</td>\n",
       "    </tr>\n",
       "    <tr>\n",
       "      <th>25%</th>\n",
       "      <td>9.000000</td>\n",
       "      <td>0.000000</td>\n",
       "      <td>0.000000</td>\n",
       "      <td>0.000000</td>\n",
       "      <td>0.000000</td>\n",
       "      <td>6.000000</td>\n",
       "      <td>5.000000</td>\n",
       "      <td>101.500000</td>\n",
       "      <td>100.000000</td>\n",
       "      <td>6.250000</td>\n",
       "      <td>5.000000</td>\n",
       "      <td>106.750000</td>\n",
       "      <td>100.000000</td>\n",
       "    </tr>\n",
       "    <tr>\n",
       "      <th>50%</th>\n",
       "      <td>17.500000</td>\n",
       "      <td>1.000000</td>\n",
       "      <td>1.000000</td>\n",
       "      <td>1.000000</td>\n",
       "      <td>1.000000</td>\n",
       "      <td>11.000000</td>\n",
       "      <td>11.000000</td>\n",
       "      <td>206.000000</td>\n",
       "      <td>188.000000</td>\n",
       "      <td>12.000000</td>\n",
       "      <td>11.000000</td>\n",
       "      <td>224.500000</td>\n",
       "      <td>187.000000</td>\n",
       "    </tr>\n",
       "    <tr>\n",
       "      <th>75%</th>\n",
       "      <td>26.000000</td>\n",
       "      <td>2.000000</td>\n",
       "      <td>2.000000</td>\n",
       "      <td>3.000000</td>\n",
       "      <td>3.000000</td>\n",
       "      <td>16.000000</td>\n",
       "      <td>16.750000</td>\n",
       "      <td>307.500000</td>\n",
       "      <td>282.750000</td>\n",
       "      <td>19.000000</td>\n",
       "      <td>16.000000</td>\n",
       "      <td>338.250000</td>\n",
       "      <td>282.000000</td>\n",
       "    </tr>\n",
       "    <tr>\n",
       "      <th>max</th>\n",
       "      <td>34.000000</td>\n",
       "      <td>6.000000</td>\n",
       "      <td>6.000000</td>\n",
       "      <td>3.000000</td>\n",
       "      <td>3.000000</td>\n",
       "      <td>47.000000</td>\n",
       "      <td>37.000000</td>\n",
       "      <td>427.000000</td>\n",
       "      <td>381.000000</td>\n",
       "      <td>41.000000</td>\n",
       "      <td>31.000000</td>\n",
       "      <td>467.000000</td>\n",
       "      <td>365.000000</td>\n",
       "    </tr>\n",
       "  </tbody>\n",
       "</table>\n",
       "</div>"
      ],
      "text/plain": [
       "            Round  Home_Goals  Away_Goals  Home_Points  Away_Points  \\\n",
       "count  306.000000  306.000000  306.000000   306.000000   306.000000   \n",
       "mean    17.500000    1.395425    1.245098     1.526144     1.192810   \n",
       "std      9.826778    1.240245    1.160296     1.301060     1.264424   \n",
       "min      1.000000    0.000000    0.000000     0.000000     0.000000   \n",
       "25%      9.000000    0.000000    0.000000     0.000000     0.000000   \n",
       "50%     17.500000    1.000000    1.000000     1.000000     1.000000   \n",
       "75%     26.000000    2.000000    2.000000     3.000000     3.000000   \n",
       "max     34.000000    6.000000    6.000000     3.000000     3.000000   \n",
       "\n",
       "       Total_Home_Goals_So_Far  Total_Away_Goals_So_Far  \\\n",
       "count               306.000000               306.000000   \n",
       "mean                 11.980392                11.176471   \n",
       "std                   8.712133                 6.971716   \n",
       "min                   0.000000                 0.000000   \n",
       "25%                   6.000000                 5.000000   \n",
       "50%                  11.000000                11.000000   \n",
       "75%                  16.000000                16.750000   \n",
       "max                  47.000000                37.000000   \n",
       "\n",
       "       Cumulative_Home_Goals  Cumulative_Away_Goals  Total_Home_Points_So_Far  \\\n",
       "count             306.000000             306.000000                306.000000   \n",
       "mean              204.460784             191.228758                 13.143791   \n",
       "std               120.713073             108.510542                  8.720745   \n",
       "min                 1.000000               3.000000                  0.000000   \n",
       "25%               101.500000             100.000000                  6.250000   \n",
       "50%               206.000000             188.000000                 12.000000   \n",
       "75%               307.500000             282.750000                 19.000000   \n",
       "max               427.000000             381.000000                 41.000000   \n",
       "\n",
       "       Total_Away_Points_So_Far  Cumulative_Home_Points  \\\n",
       "count                306.000000              306.000000   \n",
       "mean                  11.101307              223.718954   \n",
       "std                    7.401785              133.350516   \n",
       "min                    0.000000                0.000000   \n",
       "25%                    5.000000              106.750000   \n",
       "50%                   11.000000              224.500000   \n",
       "75%                   16.000000              338.250000   \n",
       "max                   31.000000              467.000000   \n",
       "\n",
       "       Cumulative_Away_Points  \n",
       "count              306.000000  \n",
       "mean               190.189542  \n",
       "std                106.194116  \n",
       "min                  3.000000  \n",
       "25%                100.000000  \n",
       "50%                187.000000  \n",
       "75%                282.000000  \n",
       "max                365.000000  "
      ]
     },
     "execution_count": 6,
     "metadata": {},
     "output_type": "execute_result"
    }
   ],
   "source": [
    "df.describe() #generate descriptive statistics"
   ]
  },
  {
   "cell_type": "code",
   "execution_count": 7,
   "metadata": {},
   "outputs": [
    {
     "name": "stdout",
     "output_type": "stream",
     "text": [
      "<class 'pandas.core.frame.DataFrame'>\n",
      "RangeIndex: 306 entries, 0 to 305\n",
      "Data columns (total 13 columns):\n",
      " #   Column                    Non-Null Count  Dtype\n",
      "---  ------                    --------------  -----\n",
      " 0   Round                     306 non-null    int64\n",
      " 1   Home_Goals                306 non-null    int64\n",
      " 2   Away_Goals                306 non-null    int64\n",
      " 3   Home_Points               306 non-null    int64\n",
      " 4   Away_Points               306 non-null    int64\n",
      " 5   Total_Home_Goals_So_Far   306 non-null    int64\n",
      " 6   Total_Away_Goals_So_Far   306 non-null    int64\n",
      " 7   Cumulative_Home_Goals     306 non-null    int64\n",
      " 8   Cumulative_Away_Goals     306 non-null    int64\n",
      " 9   Total_Home_Points_So_Far  306 non-null    int64\n",
      " 10  Total_Away_Points_So_Far  306 non-null    int64\n",
      " 11  Cumulative_Home_Points    306 non-null    int64\n",
      " 12  Cumulative_Away_Points    306 non-null    int64\n",
      "dtypes: int64(13)\n",
      "memory usage: 31.2 KB\n"
     ]
    }
   ],
   "source": [
    "df.info() #return columns and value data types"
   ]
  },
  {
   "cell_type": "code",
   "execution_count": 8,
   "metadata": {},
   "outputs": [
    {
     "data": {
      "text/plain": [
       "Round  Home_Goals  Away_Goals  Home_Points  Away_Points  Total_Home_Goals_So_Far  Total_Away_Goals_So_Far  Cumulative_Home_Goals  Cumulative_Away_Goals  Total_Home_Points_So_Far  Total_Away_Points_So_Far  Cumulative_Home_Points  Cumulative_Away_Points\n",
       "1      0           0           1            1            0                        0                        2                      3                      1                         1                         4                       4                         1\n",
       "23     2           0           3            0            35                       16                       262                    243                    26                        18                        291                     252                       1\n",
       "24     0           1           0            3            12                       15                       274                    257                    13                        8                         305                     266                       1\n",
       "                   0           1            1            14                       11                       271                    251                    17                        8                         302                     257                       1\n",
       "23     3           2           3            0            20                       10                       268                    247                    22                        17                        297                     252                       1\n",
       "                                                                                                                                                                                                                                                              ..\n",
       "12     0           2           0            3            11                       13                       140                    134                    7                         6                         154                     127                       1\n",
       "                   0           1            1            6                        13                       140                    134                    6                         4                         155                     128                       1\n",
       "                                                         2                        4                        142                    134                    5                         13                        162                     129                       1\n",
       "11     5           2           3            0            20                       11                       131                    127                    13                        8                         139                     118                       1\n",
       "34     5           2           3            0            26                       22                       418                    371                    29                        24                        457                     355                       1\n",
       "Length: 306, dtype: int64"
      ]
     },
     "execution_count": 8,
     "metadata": {},
     "output_type": "execute_result"
    }
   ],
   "source": [
    "df.value_counts() #return a Series containing counts of unique rows in Dataframe"
   ]
  },
  {
   "cell_type": "code",
   "execution_count": 9,
   "metadata": {},
   "outputs": [
    {
     "data": {
      "text/plain": [
       "Round                       0\n",
       "Home_Goals                  0\n",
       "Away_Goals                  0\n",
       "Home_Points                 0\n",
       "Away_Points                 0\n",
       "Total_Home_Goals_So_Far     0\n",
       "Total_Away_Goals_So_Far     0\n",
       "Cumulative_Home_Goals       0\n",
       "Cumulative_Away_Goals       0\n",
       "Total_Home_Points_So_Far    0\n",
       "Total_Away_Points_So_Far    0\n",
       "Cumulative_Home_Points      0\n",
       "Cumulative_Away_Points      0\n",
       "dtype: int64"
      ]
     },
     "execution_count": 9,
     "metadata": {},
     "output_type": "execute_result"
    }
   ],
   "source": [
    "df.isnull().sum()"
   ]
  },
  {
   "cell_type": "code",
   "execution_count": 10,
   "metadata": {},
   "outputs": [
    {
     "data": {
      "text/plain": [
       "Round                        5355\n",
       "Home_Goals                    427\n",
       "Away_Goals                    381\n",
       "Home_Points                   467\n",
       "Away_Points                   365\n",
       "Total_Home_Goals_So_Far      3666\n",
       "Total_Away_Goals_So_Far      3420\n",
       "Cumulative_Home_Goals       62565\n",
       "Cumulative_Away_Goals       58516\n",
       "Total_Home_Points_So_Far     4022\n",
       "Total_Away_Points_So_Far     3397\n",
       "Cumulative_Home_Points      68458\n",
       "Cumulative_Away_Points      58198\n",
       "dtype: int64"
      ]
     },
     "execution_count": 10,
     "metadata": {},
     "output_type": "execute_result"
    }
   ],
   "source": [
    "df.sum()"
   ]
  },
  {
   "cell_type": "code",
   "execution_count": 12,
   "metadata": {},
   "outputs": [
    {
     "data": {
      "text/plain": [
       "(306, 13)"
      ]
     },
     "execution_count": 12,
     "metadata": {},
     "output_type": "execute_result"
    }
   ],
   "source": [
    "df.shape"
   ]
  },
  {
   "cell_type": "code",
   "execution_count": 46,
   "metadata": {},
   "outputs": [
    {
     "data": {
      "text/plain": [
       "(array([ 93.,   0.,   0.,  86.,   0.,   0.,   0.,   0.,   0., 127.]),\n",
       " array([0. , 0.3, 0.6, 0.9, 1.2, 1.5, 1.8, 2.1, 2.4, 2.7, 3. ]),\n",
       " <BarContainer object of 10 artists>)"
      ]
     },
     "execution_count": 46,
     "metadata": {},
     "output_type": "execute_result"
    },
    {
     "data": {
      "image/png": "[encoded data removed]",
      "text/plain": [
       "<Figure size 432x288 with 1 Axes>"
      ]
     },
     "metadata": {},
     "output_type": "display_data"
    }
   ],
   "source": [
    "import matplotlib.pylab as plt\n",
    "plt.rcParams['figure.facecolor'] = 'white'\n",
    "plt.hist(df[\"Home_Points\"])"
   ]
  },
  {
   "cell_type": "code",
   "execution_count": 50,
   "metadata": {},
   "outputs": [
    {
     "data": {
      "text/plain": [
       "<AxesSubplot:>"
      ]
     },
     "execution_count": 50,
     "metadata": {},
     "output_type": "execute_result"
    },
    {
     "data": {
      "image/png": "[encoded data removed]",
      "text/plain": [
       "<Figure size 1800x720 with 2 Axes>"
      ]
     },
     "metadata": {},
     "output_type": "display_data"
    }
   ],
   "source": [
    "import missingno as msno\n",
    "import plotly.io as pio\n",
    "pio.renderers.default = \"vscode\" #set default renderer to 'notebook' or 'vscode'\n",
    "msno.matrix(df) #check for columns with missing data"
   ]
  },
  {
   "cell_type": "code",
   "execution_count": 38,
   "metadata": {},
   "outputs": [
    {
     "data": {
      "text/plain": [
       "7"
      ]
     },
     "execution_count": 38,
     "metadata": {},
     "output_type": "execute_result"
    }
   ],
   "source": [
    "df[\"Home_Goals\"].unique() #return unique values of Series object\n",
    "df[\"Away_Goals\"].nunique() #return number of unique values of Series object"
   ]
  },
  {
   "cell_type": "code",
   "execution_count": 40,
   "metadata": {},
   "outputs": [
    {
     "data": {
      "text/plain": [
       "Round                       0\n",
       "Home_Goals                  0\n",
       "Away_Goals                  0\n",
       "Home_Points                 0\n",
       "Away_Points                 0\n",
       "Total_Home_Goals_So_Far     0\n",
       "Total_Away_Goals_So_Far     0\n",
       "Cumulative_Home_Goals       0\n",
       "Cumulative_Away_Goals       0\n",
       "Total_Home_Points_So_Far    0\n",
       "Total_Away_Points_So_Far    0\n",
       "Cumulative_Home_Points      0\n",
       "Cumulative_Away_Points      0\n",
       "dtype: int64"
      ]
     },
     "execution_count": 40,
     "metadata": {},
     "output_type": "execute_result"
    }
   ],
   "source": [
    "df.isna().sum() #check for any missing values in Series"
   ]
  },
  {
   "cell_type": "code",
   "execution_count": 66,
   "metadata": {},
   "outputs": [
    {
     "data": {
      "text/plain": [
       "<AxesSubplot:xlabel='Total_Home_Goals_So_Far', ylabel='Count'>"
      ]
     },
     "execution_count": 66,
     "metadata": {},
     "output_type": "execute_result"
    },
    {
     "data": {
      "image/png": "[encoded data removed]",
      "text/plain": [
       "<Figure size 432x288 with 1 Axes>"
      ]
     },
     "metadata": {},
     "output_type": "display_data"
    }
   ],
   "source": [
    "import seaborn as sns\n",
    "sns.set(rc={'axes.facecolor':'lightblue', 'figure.facecolor':'white'})\n",
    "#sns.countplot(df[\"Total_Home_Goals_So_Far\"], hue=df[\"Total_Home_Goals_So_Far\"])\n",
    "sns.histplot(df[\"Total_Home_Goals_So_Far\"])"
   ]
  },
  {
   "cell_type": "code",
   "execution_count": 103,
   "metadata": {},
   "outputs": [],
   "source": [
    "## TRAIN MODEL ##\n",
    "from sklearn.model_selection import train_test_split\n",
    "from sklearn.preprocessing import StandardScaler\n",
    "from sklearn.linear_model import LogisticRegression\n",
    "\n",
    "X = df.drop([\"Total_Home_Points_So_Far\"], axis=1)\n",
    "y = df[\"Total_Home_Points_So_Far\"]"
   ]
  },
  {
   "cell_type": "code",
   "execution_count": 104,
   "metadata": {},
   "outputs": [],
   "source": [
    "X_train, X_test, y_train, y_test = train_test_split(X, y, test_size=0.2, random_state=42)\n",
    "ss = StandardScaler()\n",
    "X_train = ss.fit_transform(X_train)\n",
    "X_test = ss.transform(X_test)"
   ]
  },
  {
   "cell_type": "code",
   "execution_count": 105,
   "metadata": {},
   "outputs": [
    {
     "name": "stderr",
     "output_type": "stream",
     "text": [
      "c:\\Users\\Zoya\\miniconda3\\lib\\site-packages\\sklearn\\linear_model\\_logistic.py:444: ConvergenceWarning:\n",
      "\n",
      "lbfgs failed to converge (status=1):\n",
      "STOP: TOTAL NO. of ITERATIONS REACHED LIMIT.\n",
      "\n",
      "Increase the number of iterations (max_iter) or scale the data as shown in:\n",
      "    https://scikit-learn.org/stable/modules/preprocessing.html\n",
      "Please also refer to the documentation for alternative solver options:\n",
      "    https://scikit-learn.org/stable/modules/linear_model.html#logistic-regression\n",
      "\n"
     ]
    }
   ],
   "source": [
    "lr = LogisticRegression()\n",
    "lr.fit(X_train, y_train)\n",
    "y_pred = lr.predict(X_test)"
   ]
  },
  {
   "cell_type": "code",
   "execution_count": 106,
   "metadata": {},
   "outputs": [
    {
     "data": {
      "text/plain": [
       "0.1935483870967742"
      ]
     },
     "execution_count": 106,
     "metadata": {},
     "output_type": "execute_result"
    }
   ],
   "source": [
    "from sklearn.metrics import accuracy_score\n",
    "\n",
    "accuracy_score(y_test, y_pred) #print accuracy %\n",
    "#Home_Goals = 0.46774193548387094\n",
    "#Away_Goals = 0.5967741935483871\n",
    "#Home_Points = 1.0\n",
    "#Away_Points = 1.0\n",
    "#Cumulative_Home_Points = 0.0\n",
    "#Total_Home_Points_So_Far = 0.1935483870967742"
   ]
  },
  {
   "cell_type": "code",
   "execution_count": 107,
   "metadata": {},
   "outputs": [
    {
     "data": {
      "text/plain": [
       "0.12903225806451613"
      ]
     },
     "execution_count": 107,
     "metadata": {},
     "output_type": "execute_result"
    }
   ],
   "source": [
    "from sklearn.ensemble import RandomForestClassifier \n",
    "\n",
    "rf = RandomForestClassifier(n_estimators = 30, random_state = 42)\n",
    "rf.fit(X_train, y_train)\n",
    "y_pred = rf.predict(X_test)\n",
    "accuracy_score(y_test, y_pred)\n",
    "\n",
    "#Home_Points = 0.9838709677419355\n",
    "#Away_Points = 0.9838709677419355\n",
    "#Cumulative_Home_Points = 0.08064516129032258\n",
    "#Total_Home_Points_So_Far = 0.12903225806451613"
   ]
  }
 ],
 "metadata": {
  "interpreter": {
   "hash": "7fee6a517d6fe4ed0c17adff658e8975cbd7122360bee955f57b5f202ed89547"
  },
  "kernelspec": {
   "display_name": "Python 3.9.5 ('base')",
   "language": "python",
   "name": "python3"
  },
  "language_info": {
   "codemirror_mode": {
    "name": "ipython",
    "version": 3
   },
   "file_extension": ".py",
   "mimetype": "text/x-python",
   "name": "python",
   "nbconvert_exporter": "python",
   "pygments_lexer": "ipython3",
   "version": "3.9.5"
  },
  "orig_nbformat": 4
 },
 "nbformat": 4,
 "nbformat_minor": 2
}
