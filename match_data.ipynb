{
 "cells": [
  {
   "cell_type": "code",
   "execution_count": null,
   "metadata": {},
   "outputs": [],
   "source": [
    "import pandas as pd\n",
    "import numpy as np\n",
    "import seaborn as sns\n",
    "import scipy.stats as ss\n",
    "import matplotlib.pylab as plt\n",
    "import sqlalchemy\n",
    "from sqlalchemy import create_engine\n",
    "\n",
    "'''DATABASE_TYPE = os.environ.get('DB_DATABASE_TYPE')\n",
    "DBAPI = os.environ.get('DB_DBAPI') #database API - API to connect Python with database\n",
    "    #use AWS details to connect database - saved in Environment Variables\n",
    "HOST = os.environ.get('DB_HOST1') #endpoint\n",
    "USER = os.environ.get('DB_USER') #username\n",
    "PASSWORD = os.environ.get('DB_PASS')\n",
    "DATABASE = os.environ.get('DB_DATABASE')\n",
    "PORT = os.environ.get('DB_PORT')\n",
    "\n",
    "engine = create_engine(f'{DATABASE_TYPE}+{DBAPI}://{USER}:{PASSWORD}@{HOST}:{PORT}/{DATABASE}')'''\n",
    "\n",
    "pd.set_option('display.max_rows', None) #display all rows in table\n",
    "data = pd.read_csv(\"Football-Dataset/2_liga/Results_1991_2_liga.csv\")\n",
    "# display 5 rows of dataset\n",
    "#data.head()  \n",
    "#data\n",
    "#data.dtypes #print data types"
   ]
  },
  {
   "cell_type": "code",
   "execution_count": null,
   "metadata": {},
   "outputs": [],
   "source": [
    "#split results and add to lists\n",
    "home_goal = []\n",
    "away_goal = []\n",
    "home_match_outcome = []\n",
    "away_match_outcome = []\n",
    "home_points = []\n",
    "away_points = []\n",
    "            \n",
    "split_result = data[\"Result\"].str.split(\"-\") #split results at '-' to separate numbers\n",
    "\n",
    "for res in split_result:\n",
    "            #print(\"Home goals: \", res[0][0])    \n",
    "    home_goal.append(int(res[0][0])) #convert to int to add goals together -- default type is str\n",
    "            #print(\"Away goals: \", res[1][0])\n",
    "    away_goal.append(int(res[1][0]))\n",
    "                \n",
    "            #Determine match outcomes\n",
    "            #Win\n",
    "    if int(res[0][0]) > int(res[1][0]):\n",
    "                home_match_outcome.append(\"Win\")\n",
    "                home_points.append(3) #3 points for a win \n",
    "\n",
    "                away_match_outcome.append(\"Loss\")   \n",
    "                away_points.append(0)           \n",
    "            #Draw\n",
    "    elif int(res[0][0]) == int(res[1][0]):\n",
    "                home_match_outcome.append(\"Draw\")\n",
    "                home_points.append(1) #1 point for a draw\n",
    "\n",
    "                away_match_outcome.append(\"Draw\")  \n",
    "                away_points.append(1)   \n",
    "            #Loss    \n",
    "    else:\n",
    "                home_match_outcome.append(\"Loss\")\n",
    "                home_points.append(0) #0 points for a loss\n",
    "\n",
    "                away_match_outcome.append(\"Win\")  \n",
    "                away_points.append(3)  \n",
    "           \n",
    "        \n",
    "        #add lists to existing dataframe/set\n",
    "    #data[\"Home_Goals\"] = home_goal\n",
    "    #data[\"Away_Goals\"] = away_goal\n",
    "data[\"Home_Match_Outcome\"] = home_match_outcome\n",
    "    #data[\"Home_Points\"] = home_points\n",
    "data[\"Away_Match_Outcome\"] = away_match_outcome\n",
    "#data[\"Away_Points\"] = away_points \n",
    "data.head()"
   ]
  },
  {
   "cell_type": "code",
   "execution_count": null,
   "metadata": {},
   "outputs": [],
   "source": [
    "data['Home_Match_Outcome'].replace(\n",
    "    to_replace=['Win'],\n",
    "    value='1',\n",
    "    inplace=True)\n",
    "\n",
    "data['Home_Match_Outcome'].replace(\n",
    "    to_replace=['Loss'],\n",
    "    value='2',\n",
    "    inplace=True)\n",
    "\n",
    "data['Home_Match_Outcome'].replace(\n",
    "    to_replace=['Draw'],\n",
    "    value='3',\n",
    "    inplace=True)\n",
    "data.head()"
   ]
  },
  {
   "cell_type": "code",
   "execution_count": 1,
   "metadata": {},
   "outputs": [
    {
     "data": {
      "text/plain": [
       "'datasets saved to csv'"
      ]
     },
     "execution_count": 1,
     "metadata": {},
     "output_type": "execute_result"
    }
   ],
   "source": [
    "from pipeline import MatchOutcomeData\n",
    "\n",
    "df = MatchOutcomeData(match= True)\n",
    "#df.display_data()\n",
    "#df.get_teams()\n",
    "#df.get_results()\n",
    "#df.split_results()\n",
    "#df.get_cumulative_data()\n",
    "#df.get_team_info()\n",
    "#df.get_match_info()\n",
    "#df.find_team(input(\"Select team:\")) #to get more data, add method after other functions\n",
    "#df.get_away_goal_stats()\n",
    "#df.get_total_team_points()\n",
    "#df.get_team_home_goals()\n",
    "#df.convert_outcome_to_int()\n",
    "df.save_to_csv()"
   ]
  },
  {
   "cell_type": "code",
   "execution_count": null,
   "metadata": {},
   "outputs": [],
   "source": [
    "df.get_match_info()"
   ]
  },
  {
   "cell_type": "code",
   "execution_count": null,
   "metadata": {},
   "outputs": [],
   "source": [
    "df.get_cumulative_data()"
   ]
  },
  {
   "cell_type": "code",
   "execution_count": null,
   "metadata": {},
   "outputs": [],
   "source": [
    "df.get_team_away_goals()"
   ]
  },
  {
   "cell_type": "code",
   "execution_count": null,
   "metadata": {},
   "outputs": [],
   "source": [
    "x = df.get_total_team_points()"
   ]
  },
  {
   "cell_type": "code",
   "execution_count": null,
   "metadata": {},
   "outputs": [],
   "source": [
    "import pandas as pd\n",
    "pd.DataFrame(x)"
   ]
  },
  {
   "cell_type": "code",
   "execution_count": null,
   "metadata": {},
   "outputs": [],
   "source": [
    "import csv\n",
    "import os\n",
    "import sqlalchemy\n",
    "from sqlalchemy import create_engine\n",
    "import pandas as pd\n",
    "\n",
    "DATABASE_TYPE = os.environ.get('DB_DATABASE_TYPE')\n",
    "DBAPI = os.environ.get('DB_DBAPI') #database API - API to connect Python with database\n",
    "    #use AWS details to connect database - saved in Environment Variables\n",
    "HOST = os.environ.get('DB_HOST1') #endpoint\n",
    "USER = os.environ.get('DB_USER') #username\n",
    "PASSWORD = os.environ.get('DB_PASS')\n",
    "DATABASE = os.environ.get('DB_DATABASE')\n",
    "PORT = os.environ.get('DB_PORT')\n",
    "\n",
    "engine = create_engine(f'{DATABASE_TYPE}+{DBAPI}://{USER}:{PASSWORD}@{HOST}:{PORT}/{DATABASE}')\n",
    "\n",
    "with open('cleaned_datasets/premier_league/2011/cleaned_dataset_premier_league_2011.csv') as file:\n",
    "    data = csv.reader(file) #load json file\n",
    "    #print(\"Type:\", type(data))\n",
    "    df = pd.DataFrame(data) #save data in json file in dataframe\n",
    "sql_table = df.to_sql(\"HELLO\", con=engine, if_exists='append', index=False) #upload pandas dataframe to sql table \n",
    "                                                                                                   #use replace instead of append if changing everything in sql table\n",
    "sql_table #prints number of entries"
   ]
  },
  {
   "cell_type": "code",
   "execution_count": null,
   "metadata": {},
   "outputs": [],
   "source": [
    "df.get_elo()"
   ]
  },
  {
   "cell_type": "code",
   "execution_count": null,
   "metadata": {},
   "outputs": [],
   "source": [
    "import pickle\n",
    "x = pickle.load(open('elo_dict.pkl', 'rb'))\n",
    "x"
   ]
  },
  {
   "cell_type": "code",
   "execution_count": null,
   "metadata": {},
   "outputs": [],
   "source": [
    "import pandas as pd\n",
    "team_elo = []\n",
    "test = []\n",
    "for key, value in x.items():\n",
    "    #test = pd.DataFrame()\n",
    "    team = key.rsplit(\"/\",4)\n",
    "    #print(key, \"Home team:\", team[2].replace(\"-\", \" \").title(), \"Away team:\", team[3].replace(\"-\", \" \").title(), \"Elo home:\", value[\"Elo_home\"], \"Elo away:\", value[\"Elo_away\"])\n",
    "    team_elo.append({\"Home_Team\": team[2].replace(\"-\", \" \").title(), \"Away team\": team[3].replace(\"-\", \" \").title(), \"Elo_home\": value[\"Elo_home\"], \"Elo_away\": value[\"Elo_away\"]})\n",
    "\n",
    "elo_df = pd.DataFrame(team_elo)\n",
    "elo_df[elo_df[\"Home_Team\"].str.contains(\"Manchester United\")]\n",
    "#test.first()"
   ]
  },
  {
   "cell_type": "code",
   "execution_count": null,
   "metadata": {},
   "outputs": [],
   "source": [
    "teams = data[\"Home_Team\"][data[\"Home_Team\"]!= \"Away Team\"].unique()\n",
    "set(data[\"Home_Team\"])"
   ]
  },
  {
   "cell_type": "code",
   "execution_count": null,
   "metadata": {},
   "outputs": [],
   "source": [
    "result = data[\"Result\"].astype(\"category\")\n",
    "set(result)"
   ]
  },
  {
   "cell_type": "code",
   "execution_count": null,
   "metadata": {},
   "outputs": [],
   "source": [
    "teams_df = pd.DataFrame(teams, columns=[\"Team\"])\n",
    "teams_df[\"Count\"] = teams_df[\"Team\"].map(data[\"Home_Team\"].value_counts())\n",
    "teams_df"
   ]
  },
  {
   "cell_type": "code",
   "execution_count": null,
   "metadata": {},
   "outputs": [],
   "source": [
    "result_df = pd.DataFrame(result, columns=[\"Result\"])\n",
    "result_df[\"Count\"] = result_df[\"Result\"].map(data[\"Result\"].value_counts())\n",
    "result_df"
   ]
  },
  {
   "cell_type": "code",
   "execution_count": null,
   "metadata": {},
   "outputs": [],
   "source": [
    "import plotly.express as px\n",
    "import plotly.io as pio\n",
    "pio.renderers.default = \"notebook\" #set default renderer to 'notebook' or 'vscode'\n",
    "px.histogram(result, \"Result\", labels={\"value\": \"Result\"}, title=\"Counts of League Match Results\") #print all game results"
   ]
  },
  {
   "cell_type": "code",
   "execution_count": null,
   "metadata": {},
   "outputs": [],
   "source": [
    "'''pio.renderers.default = \"notebook\" #set default renderer to 'notebook' or 'vscode'\n",
    "age_gender_df = y[[\"Home_Team\", \"Away_Team\"]]\n",
    "age_gender_groups = age_gender_df.groupby([\"Home_Team\", \"Away_Team\"]).size().unstack()\n",
    "fig = px.funnel(age_gender_groups, title=\"Count of Matches which ended in 1-0\", labels={\"Home_Team\": \"Home Team\", \"value\": \"Count\"})\n",
    "fig.update_layout(legend_title_text='Away Teams')\n",
    "# fig.update_layout(barmode=\"group\")\n",
    "fig.show()'''"
   ]
  },
  {
   "cell_type": "code",
   "execution_count": null,
   "metadata": {},
   "outputs": [],
   "source": [
    "pio.renderers.default = \"notebook\" #set default renderer to 'notebook' or 'vscode'\n",
    "match_count = data[[\"Home_Team\", \"Away_Team\",\"Result\"]]\n",
    "team_stats = match_count.groupby([\"Home_Team\", \"Result\"]).size().unstack()\n",
    "fig = px.funnel(team_stats, title=\"Count of Matches\", labels={\"Home_Team\": \"Home Team\", \"value\": \"Count\", \"Away_Team\": \"Away Team\"})\n",
    "fig.update_layout(legend_title_text='Result')\n",
    "# fig.update_layout(barmode=\"group\")\n",
    "fig.show()"
   ]
  },
  {
   "cell_type": "code",
   "execution_count": null,
   "metadata": {},
   "outputs": [],
   "source": [
    "#show overall score outcomes for each home team\n",
    "fig = px.histogram(data, \"Result\", facet_col=\"Home_Team\",\n",
    "             color=\"Home_Team\",\n",
    "             title=\"Counts of Score Frequency per Home Team\",\n",
    "             labels={\"Home_Team\": \"Home Team\", \"Result\": \"Result\"},\n",
    "             height=2000, \n",
    "             facet_col_wrap=2, \n",
    "             facet_col_spacing=0.1)\n",
    "\n",
    "fig.update_layout(showlegend=False)\n",
    "fig.update_xaxes(showticklabels=True, tickangle=45)\n",
    "fig.update_yaxes(matches=None, showticklabels=True)"
   ]
  },
  {
   "cell_type": "code",
   "execution_count": null,
   "metadata": {},
   "outputs": [],
   "source": [
    "#split results and add to lists\n",
    "result = data[\"Result\"].astype(\"category\")\n",
    "#set(result)\n",
    "\n",
    "home_goal = []\n",
    "away_goal = []\n",
    "home_match_outcome = []\n",
    "away_match_outcome = []\n",
    "home_points = []\n",
    "away_points = []\n",
    "       \n",
    "split_result = data[\"Result\"].str.split(\"-\")\n",
    "        #print(split_result)\n",
    "for res in split_result:\n",
    "                #print(\"Home goals: \", res[0][0])    \n",
    "        home_goal.append(int(res[0][0]))\n",
    "                #print(\"Away goals: \", res[1][0])\n",
    "        away_goal.append(int(res[1][0]))\n",
    "        \n",
    "        #determine match outcomes\n",
    "        if int(res[0][0]) > int(res[1][0]): #Win\n",
    "                #print(3, res[0][0], res[1][0])\n",
    "                home_match_outcome.append(\"Win\")\n",
    "                home_points.append(3) #3 points for a win \n",
    "\n",
    "                away_match_outcome.append(\"Loss\")   \n",
    "                away_points.append(0) \n",
    "\n",
    "        elif res[0][0] == res[1][0]: #Draw\n",
    "                #print(\"Draw\")\n",
    "                #print(1, res[0][0], res[1][0])\n",
    "                home_match_outcome.append(\"Draw\")\n",
    "                home_points.append(1) #1 point for a draw\n",
    "\n",
    "                away_match_outcome.append(\"Draw\")  \n",
    "                away_points.append(1)   \n",
    "           \n",
    "        else: #Loss\n",
    "                #print(0, res[0][0], res[1][0])\n",
    "                home_match_outcome.append(\"Loss\")\n",
    "                home_points.append(0) #0 points for a loss\n",
    "\n",
    "                away_match_outcome.append(\"Win\")  \n",
    "                away_points.append(3)  \n",
    "#print(type(res[0][0]))\n"
   ]
  },
  {
   "cell_type": "code",
   "execution_count": null,
   "metadata": {},
   "outputs": [],
   "source": [
    "#add split results and match outcomes to existing pandas dataframe\n",
    "data[\"Home_Goals\"] = home_goal\n",
    "data[\"Away_Goals\"] = away_goal\n",
    "data[\"Home_Match_Outcome\"] = home_match_outcome\n",
    "data[\"Home_Points\"] = home_points\n",
    "data[\"Away_Match_Outcome\"] = away_match_outcome\n",
    "data[\"Away_Points\"] = away_points"
   ]
  },
  {
   "cell_type": "code",
   "execution_count": null,
   "metadata": {},
   "outputs": [],
   "source": [
    "data[\"Total_Home_Points_So_Far\"] = data.groupby([\"Home_Team\"])[\"Home_Points\"].cumsum() #cumulative addition of points for each home team\n",
    "data[\"Total_Away_Points_So_Far\"] = data.groupby([\"Away_Team\"])[\"Away_Points\"].cumsum() #cumulative addition of points for each away team\n",
    "data[\"Cumulative_Home_Points\"] = data[\"Home_Points\"].cumsum() #cumulative sum of home points\n",
    "data[\"Cumulative_Away_Points\"] = data[\"Away_Points\"].cumsum() #cumulative sum of away points\n",
    "data[\"Total_Home_Goals_So_Far\"] = data.groupby([\"Home_Team\"])[\"Home_Goals\"].cumsum() #cumulative addition of goals for each home team\n",
    "data[\"Total_Away_Goals_So_Far\"] = data.groupby([\"Home_Team\"])[\"Away_Goals\"].cumsum() #cumulative addition of goals for each home team\n",
    "data[\"Cumulative_Home_Goals\"] = data[\"Home_Goals\"].cumsum() #cumulative addition of goals for each home team\n",
    "data[\"Cumulative_Away_Goals\"] = data[\"Away_Goals\"].cumsum() #cumulative addition of goals for each home team\n",
    "\n",
    "\n",
    "#data\n",
    "data[data[\"Home_Team\"].str.contains(\"Liverpool\")] #only display data of specified team"
   ]
  },
  {
   "cell_type": "code",
   "execution_count": null,
   "metadata": {},
   "outputs": [],
   "source": [
    "#check Home Team stats\n",
    "#data.groupby([\"League\",\"Home_Team\",\"Match_Outcome\"]).count()\n",
    "data.groupby([\"Home_Team\",\"Match_Outcome\"]).count()"
   ]
  },
  {
   "cell_type": "code",
   "execution_count": null,
   "metadata": {},
   "outputs": [],
   "source": [
    "#calculate mean, sum and standard deviation of home goals\n",
    "grp = data.groupby('Home_Team')\n",
    "score_sum = []\n",
    "score_mean = []\n",
    "score_std = []\n",
    "#for gr in grp:\n",
    "\n",
    "score_mean.append(grp['Home_Goals'].agg(np.mean)) #calculate mean \n",
    "score_sum.append(grp['Home_Goals'].agg(np.sum)) #calculate sum\n",
    "score_std.append(grp['Home_Goals'].agg(np.std)) #calculate standard deviation\n",
    "\n",
    "score_sum, score_mean, score_std\n"
   ]
  },
  {
   "cell_type": "code",
   "execution_count": null,
   "metadata": {},
   "outputs": [],
   "source": [
    "#show number of individual scores for each home team in League\n",
    "fig = px.histogram(score_mean, color = \"Away_Team\", height = 500)\n",
    "\n",
    "fig.update_layout(showlegend=True) #False to hide\n",
    "fig.update_xaxes(showticklabels=True, tickangle=45)\n",
    "fig.update_yaxes(matches=None, showticklabels=True)"
   ]
  },
  {
   "cell_type": "code",
   "execution_count": null,
   "metadata": {},
   "outputs": [],
   "source": [
    "#show number of individual scores for each home team in League\n",
    "fig = px.bar(data, \"Match_Outcome\", \n",
    "             color=\"Home_Team\",\n",
    "             title=\"Counts of Individual Score Frequency per Home Team\",\n",
    "             labels={\"Home_Team\": \"Home Team\", \"Match_Outcome\": \"Match Outcome\"},\n",
    "             height=2000, \n",
    "             facet_col_wrap=2, \n",
    "             facet_col_spacing=0.1)\n",
    "\n",
    "fig.update_layout(showlegend=True) #False to hide\n",
    "fig.update_xaxes(showticklabels=True, tickangle=45)\n",
    "fig.update_yaxes(matches=None, showticklabels=True)"
   ]
  },
  {
   "cell_type": "code",
   "execution_count": null,
   "metadata": {},
   "outputs": [],
   "source": [
    "#show number of individual scores for each home team in League\n",
    "fig = px.pie(data, \"Home_Goals\", \n",
    "             color=\"Home_Goals\",\n",
    "             title=\"Counts of Home Goals in League\",\n",
    "             labels={\"Home_Team\": \"Home Team\", \"Home_Goals\": \"Home Goals\"},\n",
    "             height=500, \n",
    "             )\n",
    "\n",
    "fig.update_layout(showlegend=True, legend_title_text='Number of Goals') #False to hide\n",
    "fig.update_xaxes(showticklabels=True, tickangle=45)\n",
    "fig.update_yaxes(matches=None, showticklabels=True)"
   ]
  },
  {
   "cell_type": "code",
   "execution_count": null,
   "metadata": {},
   "outputs": [],
   "source": [
    "#show number of individual scores for each home team in League\n",
    "data.sort_values(by=[\"Away_Goals\"])\n",
    "fig = px.pie(data, \"Away_Goals\",\n",
    "             color=\"Away_Goals\",\n",
    "             title=\"Counts of Away Goals in League\",\n",
    "             labels={\"Away_Goals\": \"Away Goals\", \"Away_Team\": \"Away Team\"},\n",
    "             height=500,  \n",
    "             )\n",
    "\n",
    "fig.update_layout(showlegend=True, legend_title_text='Number of Goals')\n",
    "fig.update_xaxes(showticklabels=True, tickangle=45)\n",
    "fig.update_yaxes(matches=None, showticklabels=True)"
   ]
  },
  {
   "cell_type": "code",
   "execution_count": null,
   "metadata": {},
   "outputs": [],
   "source": [
    "result = data.sort_values(by=[\"Result\"])\n",
    "\n",
    "fig = px.bar(result, \"Result\", \n",
    "             color=\"Home_Team\",\n",
    "             title=\"Counts of Overall Results Achieved by Home Team\",\n",
    "             labels={ \"Home_Team\": \"Home Team\", \"Result\": \"Result\"},\n",
    "             height=1000, facet_col_wrap=4, \n",
    "             facet_col_spacing=0.1\n",
    "             )\n",
    "\n",
    "fig.update_layout(showlegend=True, xaxis={'categoryorder':'total descending'})\n",
    "fig.update_yaxes(matches=None, showticklabels=True)\n"
   ]
  },
  {
   "cell_type": "code",
   "execution_count": null,
   "metadata": {},
   "outputs": [],
   "source": [
    "#show number of individual scores for each home team in League\n",
    "fig = px.bar(data, \"Match_Outcome\", \n",
    "             color=\"Home_Team\",\n",
    "             title=\"Counts of Individual Score Frequency per Home Team\",\n",
    "             labels={\"Home_Team\": \"Home Team\", \"Match_Outcome\": \"Match Outcome\"},\n",
    "             height=2000, \n",
    "             facet_col_wrap=2, \n",
    "             facet_col_spacing=0.1)\n",
    "\n",
    "fig.update_layout(showlegend=True) #False to hide\n",
    "fig.update_xaxes(showticklabels=True, tickangle=45)\n",
    "fig.update_yaxes(matches=None, showticklabels=True)"
   ]
  }
 ],
 "metadata": {
  "interpreter": {
   "hash": "7fee6a517d6fe4ed0c17adff658e8975cbd7122360bee955f57b5f202ed89547"
  },
  "kernelspec": {
   "display_name": "Python 3.9.5 ('base')",
   "language": "python",
   "name": "python3"
  },
  "language_info": {
   "codemirror_mode": {
    "name": "ipython",
    "version": 3
   },
   "file_extension": ".py",
   "mimetype": "text/x-python",
   "name": "python",
   "nbconvert_exporter": "python",
   "pygments_lexer": "ipython3",
   "version": "3.9.5"
  },
  "orig_nbformat": 4
 },
 "nbformat": 4,
 "nbformat_minor": 2
}
