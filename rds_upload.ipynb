{
 "cells": [
  {
   "cell_type": "code",
   "execution_count": 5,
   "metadata": {},
   "outputs": [
    {
     "data": {
      "text/plain": [
       "307"
      ]
     },
     "execution_count": 5,
     "metadata": {},
     "output_type": "execute_result"
    }
   ],
   "source": [
    "import csv\n",
    "import os\n",
    "import sqlalchemy\n",
    "from sqlalchemy import create_engine\n",
    "import pandas as pd\n",
    "\n",
    "DATABASE_TYPE = os.environ.get('DB_DATABASE_TYPE')\n",
    "DBAPI = os.environ.get('DB_DBAPI') #database API - API to connect Python with database\n",
    "    #use AWS details to connect database - saved in Environment Variables\n",
    "HOST = os.environ.get('DB_HOST1') #endpoint\n",
    "USER = os.environ.get('DB_USER') #username\n",
    "PASSWORD = os.environ.get('DB_PASS')\n",
    "DATABASE = os.environ.get('DB_DATABASE')\n",
    "PORT = os.environ.get('DB_PORT')\n",
    "\n",
    "engine = create_engine(f'{DATABASE_TYPE}+{DBAPI}://{USER}:{PASSWORD}@{HOST}:{PORT}/{DATABASE}')\n",
    "league = input(\"Select league: \").replace(\" \", \"_\").lower()\n",
    "year = input(\"Select year: \")\n",
    "file_path = rf'cleaned_datasets/{league}/{year}/cleaned_dataset_{league}_{year}.csv'\n",
    "try:\n",
    "    if os.path.exists(file_path):\n",
    "        with open(file_path) as file:\n",
    "            data = csv.reader(file) #load json file\n",
    "            #print(\"Type:\", type(data))\n",
    "            df = pd.DataFrame(data) #save data in json file in dataframe\n",
    "        sql_table = df.to_sql(f\"{league}_{year}\", con=engine, if_exists='replace', index=False) #upload pandas dataframe to sql table                                                                                         #use replace instead of append if changing everything in sql table\n",
    "        \n",
    "    else:\n",
    "        print(\"This file does not exist - please create before trying to load to database\")\n",
    "except:\n",
    "    \"File not loaded to database\"\n",
    "sql_table #prints number of entries in table"
   ]
  }
 ],
 "metadata": {
  "interpreter": {
   "hash": "7fee6a517d6fe4ed0c17adff658e8975cbd7122360bee955f57b5f202ed89547"
  },
  "kernelspec": {
   "display_name": "Python 3.9.5 ('base')",
   "language": "python",
   "name": "python3"
  },
  "language_info": {
   "codemirror_mode": {
    "name": "ipython",
    "version": 3
   },
   "file_extension": ".py",
   "mimetype": "text/x-python",
   "name": "python",
   "nbconvert_exporter": "python",
   "pygments_lexer": "ipython3",
   "version": "3.9.5"
  },
  "orig_nbformat": 4
 },
 "nbformat": 4,
 "nbformat_minor": 2
}
