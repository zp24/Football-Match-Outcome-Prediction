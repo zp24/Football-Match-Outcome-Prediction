{
 "cells": [
  {
   "cell_type": "code",
   "execution_count": null,
   "metadata": {},
   "outputs": [],
   "source": [
    "import pandas as pd\n",
    "import numpy as np\n",
    "import sklearn\n",
    "import matplotlib\n",
    "\n",
    "df = pd.read_csv('cleaned_datasets/2_liga/2016/cleaned_dataset_2_liga_2016.csv')\n",
    "df = df.rename({\"Unnamed: 0\": \"Match_Number\"}, axis= 'columns') #rename index column to Match_Number and apply to DataFrames"
   ]
  },
  {
   "cell_type": "code",
   "execution_count": null,
   "metadata": {},
   "outputs": [],
   "source": [
    "df.describe() #generate descriptive statistics"
   ]
  },
  {
   "cell_type": "code",
   "execution_count": null,
   "metadata": {},
   "outputs": [],
   "source": [
    "df.info() #return columns and value data types"
   ]
  },
  {
   "cell_type": "code",
   "execution_count": null,
   "metadata": {},
   "outputs": [],
   "source": [
    "df.value_counts() #return a Series containing counts of unique rows in Dataframe"
   ]
  },
  {
   "cell_type": "code",
   "execution_count": null,
   "metadata": {},
   "outputs": [],
   "source": [
    "df.isnull().sum() #check for null values in each column"
   ]
  },
  {
   "cell_type": "code",
   "execution_count": null,
   "metadata": {},
   "outputs": [],
   "source": [
    "df.sum() #calculate sum of values in each column"
   ]
  },
  {
   "cell_type": "code",
   "execution_count": null,
   "metadata": {},
   "outputs": [],
   "source": [
    "df.shape"
   ]
  },
  {
   "cell_type": "code",
   "execution_count": null,
   "metadata": {},
   "outputs": [],
   "source": [
    "import matplotlib.pylab as plt\n",
    "plt.rcParams['figure.facecolor'] = 'white'\n",
    "plt.hist(df[\"Home_Points\"])"
   ]
  },
  {
   "cell_type": "code",
   "execution_count": null,
   "metadata": {},
   "outputs": [],
   "source": [
    "import missingno as msno\n",
    "import plotly.io as pio\n",
    "pio.renderers.default = \"vscode\" #set default renderer to 'notebook' or 'vscode'\n",
    "msno.matrix(df) #check for columns with missing data"
   ]
  },
  {
   "cell_type": "code",
   "execution_count": null,
   "metadata": {},
   "outputs": [],
   "source": [
    "df[\"Home_Goals\"].unique() #return unique values of Series object\n",
    "df[\"Away_Goals\"].nunique() #return number of unique values of Series object"
   ]
  },
  {
   "cell_type": "code",
   "execution_count": null,
   "metadata": {},
   "outputs": [],
   "source": [
    "df.isna().sum() #check for summ of any missing values in Series"
   ]
  },
  {
   "cell_type": "code",
   "execution_count": null,
   "metadata": {},
   "outputs": [],
   "source": [
    "plt.hist(df[\"Away_Match_Outcome\"])"
   ]
  },
  {
   "cell_type": "code",
   "execution_count": null,
   "metadata": {},
   "outputs": [],
   "source": [
    "#present linear relationship of home_points\n",
    "home_points = pd.get_dummies(df[\"Home_Points\"], prefix=\"Home_Points\") #add drop_first = True to get rid of first column in modified DataFrame\n",
    "home_points"
   ]
  },
  {
   "cell_type": "code",
   "execution_count": null,
   "metadata": {},
   "outputs": [],
   "source": [
    "away_points = pd.get_dummies(df[\"Away_Points\"], prefix=\"Away_Points\") #add drop_first = True to get rid of first column in modified DataFrame\n",
    "away_points"
   ]
  },
  {
   "cell_type": "code",
   "execution_count": null,
   "metadata": {},
   "outputs": [],
   "source": [
    "home_match_outcome = pd.get_dummies(df[\"Home_Match_Outcome\"], prefix=\"Home_Match_Outcome\") #add drop_first = True to get rid of first column in modified DataFrame\n",
    "home_match_outcome"
   ]
  },
  {
   "cell_type": "code",
   "execution_count": null,
   "metadata": {},
   "outputs": [],
   "source": [
    "away_match_outcome = pd.get_dummies(df[\"Away_Match_Outcome\"], prefix=\"Away_Match_Outcome\") #add drop_first = True to get rid of first column in modified DataFrame\n",
    "away_match_outcome"
   ]
  },
  {
   "cell_type": "code",
   "execution_count": null,
   "metadata": {},
   "outputs": [],
   "source": [
    "'''df = df.join(home_match_outcome).join(away_match_outcome)\n",
    "df'''"
   ]
  },
  {
   "cell_type": "code",
   "execution_count": null,
   "metadata": {},
   "outputs": [],
   "source": [
    "'''df = df.drop([\"Home_Match_Outcome\", \"Away_Match_Outcome\"], axis=1)\n",
    "df'''"
   ]
  },
  {
   "cell_type": "code",
   "execution_count": null,
   "metadata": {},
   "outputs": [],
   "source": [
    "'''df = df.join(home_points).join(away_points)\n",
    "df'''"
   ]
  },
  {
   "cell_type": "code",
   "execution_count": null,
   "metadata": {},
   "outputs": [],
   "source": [
    "'''df = df.drop([\"Home_Points\", \"Away_Points\"], axis=1)\n",
    "df'''"
   ]
  },
  {
   "cell_type": "code",
   "execution_count": null,
   "metadata": {},
   "outputs": [],
   "source": [
    "'''home_goals = pd.get_dummies(df[\"Home_Goals\"], prefix=\"Home_Goals\") #add drop_first = True to get rid of first column in modified DataFrame\n",
    "home_goals'''"
   ]
  },
  {
   "cell_type": "code",
   "execution_count": null,
   "metadata": {},
   "outputs": [],
   "source": [
    "'''away_goals = pd.get_dummies(df[\"Away_Goals\"], prefix=\"Away_Goals\") #add drop_first = True to get rid of first column in modified DataFrame\n",
    "away_goals'''"
   ]
  },
  {
   "cell_type": "code",
   "execution_count": null,
   "metadata": {},
   "outputs": [],
   "source": [
    "'''df = df.join(home_goals).join(away_goals)\n",
    "df'''"
   ]
  },
  {
   "cell_type": "code",
   "execution_count": null,
   "metadata": {},
   "outputs": [],
   "source": [
    "df = df.drop([\"Away_Goals\"], axis = 1)\n",
    "df"
   ]
  },
  {
   "cell_type": "code",
   "execution_count": null,
   "metadata": {},
   "outputs": [],
   "source": [
    "'''df = df.drop([\"Total_Home_Goals_So_Far\", \"Total_Away_Goals_So_Far\"], axis= 1)\n",
    "df'''"
   ]
  },
  {
   "cell_type": "code",
   "execution_count": null,
   "metadata": {},
   "outputs": [],
   "source": [
    "'''df = df.drop([\"Total_Home_Points_So_Far\", \"Cumulative_Home_Points\"], axis= 1)\n",
    "df'''"
   ]
  },
  {
   "cell_type": "code",
   "execution_count": null,
   "metadata": {},
   "outputs": [],
   "source": [
    "df = df.drop([\"Match_Number\"], axis=1)\n",
    "df"
   ]
  },
  {
   "cell_type": "code",
   "execution_count": null,
   "metadata": {},
   "outputs": [],
   "source": [
    "df = df.drop([\"Home_Points\", \"Away_Match_Outcome\", \"Away_Points\"], axis=1)\n",
    "df"
   ]
  },
  {
   "cell_type": "code",
   "execution_count": null,
   "metadata": {},
   "outputs": [],
   "source": [
    "'''df = df.drop([\"Home_Match_Outcome\", \"Away_Match_Outcome\"], axis=1)\n",
    "df'''"
   ]
  },
  {
   "cell_type": "code",
   "execution_count": null,
   "metadata": {},
   "outputs": [],
   "source": [
    "'''import seaborn as sns\n",
    "sns.set(rc={'axes.facecolor':'lightblue', 'figure.facecolor':'white'}) #set graph background colours\n",
    "sns.countplot(df[\"Home_Match_Outcome_1\"], hue=df[\"Home_Goals_0\"])\n",
    "#sns.histplot(df[\"Total_Home_Goals_So_Far\"])'''"
   ]
  },
  {
   "cell_type": "code",
   "execution_count": null,
   "metadata": {},
   "outputs": [],
   "source": [
    "'''import seaborn as sns\n",
    "sns.set(rc={'axes.facecolor':'lightblue', 'figure.facecolor':'white'})\n",
    "sns.countplot(df[\"Away_Match_Outcome_1\"], hue=df[\"Away_Goals_2\"])'''"
   ]
  },
  {
   "cell_type": "code",
   "execution_count": null,
   "metadata": {},
   "outputs": [],
   "source": [
    "## TRAIN MODEL - only add features which will not leak any information, such as points for both teams at the end of each match ##\n",
    "from sklearn.model_selection import train_test_split\n",
    "from sklearn.preprocessing import StandardScaler\n",
    "from sklearn.linear_model import LogisticRegression\n",
    "\n",
    "X = df.drop([\"Home_Match_Outcome\"], axis=1) \n",
    "y = df[\"Home_Match_Outcome\"] #variable to be predicted"
   ]
  },
  {
   "cell_type": "code",
   "execution_count": null,
   "metadata": {},
   "outputs": [],
   "source": [
    "X_train, X_test, y_train, y_test = train_test_split(X, y, test_size=0.2, random_state=42)\n",
    "ss = StandardScaler()\n",
    "X_train = ss.fit_transform(X_train)\n",
    "X_test = ss.transform(X_test)"
   ]
  },
  {
   "cell_type": "code",
   "execution_count": null,
   "metadata": {},
   "outputs": [],
   "source": [
    "lr = LogisticRegression()\n",
    "lr.fit(X_train, y_train)  #fit model according to given training data\n",
    "y_pred = lr.predict(X_test) #predict class labels for samples in X"
   ]
  },
  {
   "cell_type": "code",
   "execution_count": null,
   "metadata": {},
   "outputs": [],
   "source": [
    "##TEST MODEL##\n",
    "from sklearn.metrics import accuracy_score\n",
    "\n",
    "accuracy_score(y_test, y_pred) #print accuracy %\n",
    "#Home_Goals = 0.46774193548387094\n",
    "#Away_Goals = 0.5967741935483871\n",
    "#Home_Points = 1.0\n",
    "#Away_Points = 1.0\n",
    "#Cumulative_Home_Points = 0.0\n",
    "#Total_Home_Points_So_Far = 0.1935483870967742\n",
    "#Home_Match_Outcome = 1.0\n",
    "#Away_Match_Outcome = 1.0\n",
    "\n",
    "\n",
    "##--using join() and drop() methods--##\n",
    "\n",
    "#Away_Match_Outcome_1 = 1.0 #win\n",
    "#Round = 0.14516129032258066\n",
    "#Away_Match_Outcome_2 = 1.0 #loss\n",
    "#Home_Goals_2 = 1.0\n",
    "#Home_Points_3 = 1.0\n",
    "\n",
    "###### home_match_outcome \n",
    "#1 - Home_Match_Outcome = 0.41935483870967744\n",
    "#2 - Home_Match_Outcome = 0.4032258064516129 w/cumulative away goals\n",
    "#3 - Cumulative_Home_Goals = 0.016129032258064516\n",
    "#4 - Home_Match_Outcome = 0.4838709677419355 w/total home and away goals so far\n",
    "#5 - Home_Match_Outcome = 1.0 w/home and away goals per match\n",
    "#6 - Home_Match_Outcome = 0.5967741935483871 w/o away goals per match\n",
    "#7 - Home_Match_Outcome = 0.5806451612903226 w/total home points so far and cumulative home points\n",
    "##### away_match_outcome\n",
    "#8 - Away_Match_Outcome = 0.5967741935483871 w/total away points so far and cumulative away points\n",
    "#9 - Away_Match_Outcome = 0.6129032258064516 w/total and cumulative home and away points and goals\n",
    "\n",
    "#10 - Home_Match_Outcome = 0.6129032258064516 w/total and cumulative home and away points and goals"
   ]
  },
  {
   "cell_type": "code",
   "execution_count": null,
   "metadata": {},
   "outputs": [],
   "source": [
    "##TRAIN MODEL##\n",
    "\n",
    "from sklearn.ensemble import RandomForestClassifier \n",
    "\n",
    "rf = RandomForestClassifier(n_estimators = 30, random_state = 42)\n",
    "rf.fit(X_train, y_train)\n",
    "y_pred = rf.predict(X_test)\n",
    "accuracy_score(y_test, y_pred)\n",
    "\n",
    "#Home_Points = 0.9838709677419355\n",
    "#Away_Points = 0.9838709677419355\n",
    "#Cumulative_Home_Points = 0.08064516129032258\n",
    "#Total_Home_Points_So_Far = 0.12903225806451613\n",
    "#Home_Match_Outcome = 1.0\n",
    "#Away_Match_Outcome = 1.0\n",
    "\n",
    "##--using join() and drop() methods--##\n",
    "\n",
    "#Away_Match_Outcome_2 = 1.0 #loss\n",
    "#Home_Goals_2 = 0.9516129032258065\n",
    "#Home_Points_3 = 1.0\n",
    "\n",
    "\n",
    "#######\n",
    "#1 - Home_Match_Outcome = 0.3225806451612903\n",
    "#2 - Home_Match_Outcome = 0.3387096774193548 w/cumulative away goals\n",
    "#3 - Cumulative_Home_Goals = 0.0967741935483871\n",
    "#4 - Home_Match_Outcome = 0.5 w/total home and away goals so far\n",
    "#5 - Home_Match_Outcome = 0.9193548387096774 w/home and away goals per match\n",
    "#6 - Home_Match_Outcome = 0.6290322580645161 w/o away goals per match\n",
    "#7 - Home_Match_Outcome = 0.7096774193548387 w/total home points so far and cumulative home points\n",
    "\n",
    "#8 - Away_Match_Outcome = 0.6774193548387096 w/total away points so far and cumulative away points\n",
    "#9 - Away_Match_Outcome = 0.6451612903225806 w/total and cumulative home and away points and goals\n",
    "\n",
    "#10 - Home_Match_Outcome = 0.6935483870967742 w/total and cumulative home and away points and goals"
   ]
  },
  {
   "cell_type": "code",
   "execution_count": null,
   "metadata": {},
   "outputs": [],
   "source": [
    "pd.cut(df['Match_Number'], bins=10, right=True, labels=None)"
   ]
  },
  {
   "cell_type": "code",
   "execution_count": null,
   "metadata": {},
   "outputs": [],
   "source": [
    "match_number = df[\"Match_Number\"]\n",
    "X_submission = df.drop([\"Match_Number\"], axis=1)"
   ]
  },
  {
   "cell_type": "code",
   "execution_count": null,
   "metadata": {},
   "outputs": [],
   "source": [
    "X_scale_sub = ss.transform(X_submission)"
   ]
  },
  {
   "cell_type": "code",
   "execution_count": null,
   "metadata": {},
   "outputs": [],
   "source": [
    "y_submission = rf.predict(X_scale_sub) #lr = LogisticRegression #rf = RandomForestClassifier"
   ]
  },
  {
   "cell_type": "code",
   "execution_count": null,
   "metadata": {},
   "outputs": [],
   "source": [
    "y_submission"
   ]
  },
  {
   "cell_type": "code",
   "execution_count": null,
   "metadata": {},
   "outputs": [],
   "source": [
    "my_dict = {\"Match_Number\": match_number, \"Home_Match_Outcome\": y_submission}\n",
    "submission = pd.DataFrame(my_dict).to_csv(\"submission.csv\", index=False) #load dictionary in DataFrame and save to csv "
   ]
  },
  {
   "cell_type": "code",
   "execution_count": null,
   "metadata": {},
   "outputs": [],
   "source": [
    "# example of making multiple probability predictions\n",
    "from sklearn.linear_model import LogisticRegression\n",
    "from sklearn.datasets import make_blobs\n",
    "# generate 2d classification dataset\n",
    "X, y = make_blobs(n_samples=100, centers=2, n_features=2, random_state=1)\n",
    "# fit final model\n",
    "model = LogisticRegression()\n",
    "model.fit(X, y)\n",
    "# new instances where we do not know the answer\n",
    "Xnew, _ = make_blobs(n_samples=3, centers=2, n_features=2, random_state=1)\n",
    "# make a prediction\n",
    "ynew = model.predict_proba(Xnew)\n",
    "# show the inputs and predicted probabilities\n",
    "for i in range(len(Xnew)):\n",
    "\tprint(\"X=%s, Predicted=%s\" % (Xnew[i], ynew[i]))"
   ]
  }
 ],
 "metadata": {
  "interpreter": {
   "hash": "7fee6a517d6fe4ed0c17adff658e8975cbd7122360bee955f57b5f202ed89547"
  },
  "kernelspec": {
   "display_name": "Python 3.9.5 ('base')",
   "language": "python",
   "name": "python3"
  },
  "language_info": {
   "codemirror_mode": {
    "name": "ipython",
    "version": 3
   },
   "file_extension": ".py",
   "mimetype": "text/x-python",
   "name": "python",
   "nbconvert_exporter": "python",
   "pygments_lexer": "ipython3",
   "version": "3.9.5"
  },
  "orig_nbformat": 4
 },
 "nbformat": 4,
 "nbformat_minor": 2
}
