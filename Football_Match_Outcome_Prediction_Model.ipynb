{
 "cells": [
  {
   "cell_type": "code",
   "execution_count": null,
   "metadata": {},
   "outputs": [],
   "source": [
    "import pandas as pd\n",
    "import numpy as np\n",
    "import sklearn\n",
    "import matplotlib\n",
    "\n",
    "df = pd.read_csv('cleaned_datasets/2_liga/2016/cleaned_dataset_2_liga_2016.csv')\n",
    "df = df.rename({\"Unnamed: 0\": \"Match_Number\"}, axis= 'columns') #rename index column to Match_Number and apply to DataFrames"
   ]
  },
  {
   "cell_type": "code",
   "execution_count": null,
   "metadata": {},
   "outputs": [],
   "source": [
    "import matplotlib.pylab as plt\n",
    "plt.rcParams['figure.facecolor'] = 'white'\n",
    "plt.hist(df[\"Home_Points\"])"
   ]
  },
  {
   "cell_type": "code",
   "execution_count": null,
   "metadata": {},
   "outputs": [],
   "source": [
    "df[\"Home_Goals\"].unique() #return unique values of Series object\n",
    "df[\"Away_Goals\"].nunique() #return number of unique values of Series object"
   ]
  },
  {
   "cell_type": "code",
   "execution_count": null,
   "metadata": {},
   "outputs": [],
   "source": [
    "plt.hist(df[\"Away_Points\"])"
   ]
  },
  {
   "cell_type": "code",
   "execution_count": null,
   "metadata": {},
   "outputs": [],
   "source": [
    "'''import seaborn as sns\n",
    "sns.set(rc={'axes.facecolor':'lightblue', 'figure.facecolor':'white'}) #set graph background colours\n",
    "sns.countplot(df[\"Home_Match_Outcome_1\"], hue=df[\"Home_Goals_0\"])\n",
    "#sns.histplot(df[\"Total_Home_Goals_So_Far\"])'''"
   ]
  },
  {
   "cell_type": "code",
   "execution_count": null,
   "metadata": {},
   "outputs": [],
   "source": [
    "'''import seaborn as sns\n",
    "sns.set(rc={'axes.facecolor':'lightblue', 'figure.facecolor':'white'})\n",
    "sns.countplot(df[\"Away_Match_Outcome_1\"], hue=df[\"Away_Goals_2\"])'''"
   ]
  },
  {
   "cell_type": "code",
   "execution_count": 8,
   "metadata": {},
   "outputs": [],
   "source": [
    "## TRAIN MODEL - only add features which will not leak any information, such as points for both teams at the end of each match ##\n",
    "from sklearn import datasets\n",
    "from sklearn.model_selection import train_test_split #split data\n",
    "from sklearn.preprocessing import StandardScaler\n",
    "from sklearn.linear_model import LogisticRegression\n",
    "\n",
    "X = df.drop([\"Home_Match_Outcome\"], axis=1) \n",
    "y = df[\"Home_Match_Outcome\"] #variable to be predicted"
   ]
  },
  {
   "cell_type": "code",
   "execution_count": 9,
   "metadata": {},
   "outputs": [],
   "source": [
    "X_train, X_test, y_train, y_test = train_test_split(X, y, test_size=0.2, random_state=42) #add data, features and labels\n",
    "ss = StandardScaler()\n",
    "X_train = ss.fit_transform(X_train)\n",
    "X_test = ss.transform(X_test)"
   ]
  },
  {
   "cell_type": "code",
   "execution_count": 10,
   "metadata": {},
   "outputs": [],
   "source": [
    "lr = LogisticRegression()\n",
    "lr.fit(X_train, y_train)  #fit model according to given training data\n",
    "y_pred = lr.predict(X_test) #predict class labels for samples in X"
   ]
  },
  {
   "cell_type": "code",
   "execution_count": 11,
   "metadata": {},
   "outputs": [
    {
     "data": {
      "text/plain": [
       "1.0"
      ]
     },
     "execution_count": 11,
     "metadata": {},
     "output_type": "execute_result"
    }
   ],
   "source": [
    "##TEST MODEL##\n",
    "from sklearn.metrics import accuracy_score\n",
    "\n",
    "accuracy_score(y_test, y_pred) #print accuracy %\n",
    "\n",
    "###### home_match_outcome \n",
    "#1 - Home_Match_Outcome = 0.41935483870967744\n",
    "#2 - Home_Match_Outcome = 0.4032258064516129 w/cumulative away goals\n",
    "#3 - Cumulative_Home_Goals = 0.016129032258064516\n",
    "#4 - Home_Match_Outcome = 0.4838709677419355 w/total home and away goals so far\n",
    "#5 - Home_Match_Outcome = 1.0 w/home and away goals per match\n",
    "#6 - Home_Match_Outcome = 0.5967741935483871 w/o away goals per match\n",
    "#7 - Home_Match_Outcome = 0.5806451612903226 w/total home points so far and cumulative home points\n",
    "##### away_match_outcome\n",
    "#8 - Away_Match_Outcome = 0.5967741935483871 w/total away points so far and cumulative away points\n",
    "#9 - Away_Match_Outcome = 0.6129032258064516 w/total and cumulative home and away points and goals\n",
    "\n",
    "#10 - Home_Match_Outcome = 0.6129032258064516 w/total and cumulative home and away points and goals"
   ]
  },
  {
   "cell_type": "code",
   "execution_count": null,
   "metadata": {},
   "outputs": [],
   "source": [
    "##TRAIN MODEL##\n",
    "\n",
    "from sklearn.ensemble import RandomForestClassifier \n",
    "\n",
    "rf = RandomForestClassifier(n_estimators = 30, random_state = 42)\n",
    "rf.fit(X_train, y_train)\n",
    "y_pred = rf.predict(X_test)\n",
    "accuracy_score(y_test, y_pred)\n",
    "\n",
    "####### Round removed\n",
    "#1 - Home_Match_Outcome = 0.3225806451612903\n",
    "#2 - Home_Match_Outcome = 0.3387096774193548 w/cumulative away goals\n",
    "#3 - Cumulative_Home_Goals = 0.0967741935483871\n",
    "#4 - Home_Match_Outcome = 0.5 w/total home and away goals so far\n",
    "#5 - Home_Match_Outcome = 0.9193548387096774 w/home and away goals per match\n",
    "#6 - Home_Match_Outcome = 0.6290322580645161 w/o away goals per match\n",
    "#7 - Home_Match_Outcome = 0.7096774193548387 w/total home points so far and cumulative home points\n",
    "\n",
    "#8 - Away_Match_Outcome = 0.6774193548387096 w/total away points so far and cumulative away points\n",
    "#9 - Away_Match_Outcome = 0.6451612903225806 w/total and cumulative home and away points and goals\n",
    "\n",
    "#Removing Match_Number and keeping Round in\n",
    "#10 - Home_Match_Outcome = 0.6935483870967742 w/total and cumulative home and away points and goals"
   ]
  },
  {
   "cell_type": "code",
   "execution_count": null,
   "metadata": {},
   "outputs": [],
   "source": [
    "#df[\"Round\"] = pd.cut(df['Round'], bins=10, right=True, labels=None)"
   ]
  },
  {
   "cell_type": "code",
   "execution_count": null,
   "metadata": {},
   "outputs": [],
   "source": [
    "match_number = df[\"Round\"]\n",
    "X_submission = df.drop([\"Round\"], axis=1)"
   ]
  },
  {
   "cell_type": "code",
   "execution_count": null,
   "metadata": {},
   "outputs": [],
   "source": [
    "X_scale_sub = ss.transform(X_submission)"
   ]
  },
  {
   "cell_type": "code",
   "execution_count": null,
   "metadata": {},
   "outputs": [],
   "source": [
    "y_submission = rf.predict(X_scale_sub) #lr = LogisticRegression #rf = RandomForestClassifier"
   ]
  },
  {
   "cell_type": "code",
   "execution_count": null,
   "metadata": {},
   "outputs": [],
   "source": [
    "my_dict = {\"Round\": match_number, \"Home_Match_Outcome\": y_submission}\n",
    "submission = pd.DataFrame(my_dict).to_csv(\"submission.csv\", index=False) #load dictionary in DataFrame and save to csv "
   ]
  },
  {
   "cell_type": "code",
   "execution_count": null,
   "metadata": {},
   "outputs": [],
   "source": [
    "##SAVE MODEL USING PICKLE##\n",
    "from sklearn import svm\n",
    "from sklearn import datasets\n",
    "clf = svm.SVC()\n",
    "X, y= datasets.load_iris(return_X_y=True)\n",
    "clf.fit(X, y)\n",
    "#SVC()\n",
    "\n",
    "import pickle\n",
    "s = pickle.dumps(clf)\n",
    "clf2 = pickle.loads(s)\n",
    "clf2.predict(X[0:1])\n",
    "\n",
    "from joblib import dump, load\n",
    "dump(clf, 'baseline.joblib') \n",
    "dump(clf, 'model.joblib') "
   ]
  },
  {
   "cell_type": "code",
   "execution_count": null,
   "metadata": {},
   "outputs": [],
   "source": [
    "#load pickled model\n",
    "#clf = load('baseline.joblib') "
   ]
  }
 ],
 "metadata": {
  "interpreter": {
   "hash": "7fee6a517d6fe4ed0c17adff658e8975cbd7122360bee955f57b5f202ed89547"
  },
  "kernelspec": {
   "display_name": "Python 3.9.5 ('base')",
   "language": "python",
   "name": "python3"
  },
  "language_info": {
   "codemirror_mode": {
    "name": "ipython",
    "version": 3
   },
   "file_extension": ".py",
   "mimetype": "text/x-python",
   "name": "python",
   "nbconvert_exporter": "python",
   "pygments_lexer": "ipython3",
   "version": "3.9.5"
  },
  "orig_nbformat": 4
 },
 "nbformat": 4,
 "nbformat_minor": 2
}
